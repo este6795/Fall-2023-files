{
  "cells": [
    {
      "cell_type": "markdown",
      "metadata": {},
      "source": [
        "# Wednesday, October 11\n",
        "\n",
        "## Announcements and Reminders\n",
        "- Exam 1 revisions due Friday - you must schedule a time for student hours to talk me through your solutions\n",
        "- Read chapter 9 for Friday (due Monday, but get started; it's long).\n",
        "- Task 1 for the Final Project is due Monday on Canvas.\n"
      ]
    },
    {
      "cell_type": "markdown",
      "metadata": {},
      "source": [
        "## Activity: You say potato, I say potato\n",
        "\n",
        "As we all know, American English is [different](https://youtu.be/FXBHY7uco0Y?si=KOa_qIgbpLh27PEA) than British English.  But how different?  Let's find out!\n",
        "\n",
        "Included in this folder are two files: `en_US.txt` and `en_GB.txt`.  These were generated from the hunspell dictionaries frequently used by spell-checkers.  Our goal today is to \"read\" both these files using python, and then manipulate their contents to answer some questions.\n",
        "\n",
        "### A very quick intro to reading files in python\n",
        "\n",
        "The first step is to open the file.  We do this using the `open()` function.  This function takes two arguments: the name of the file, and the mode in which we want to open it.  The mode can be either `r` for read, `w` for write, or `a` for append.  We just want to read the file, so we'll use `r`.\n",
        "\n",
        "```python\n",
        "f = open('en_US.txt', 'r')\n",
        "```\n",
        "\n",
        "Now `f` is a file object.  We can read the contents of the file using the `read()` method.\n",
        "\n",
        "```python\n",
        "contents = f.read()\n",
        "```\n",
        "\n",
        "Now `contents` is a string containing the entire contents of the file.  We can print it out to see what it looks like. Now that we are done with the file, we should close it.\n",
        "\n",
        "```python\n",
        "f.close()\n",
        "```\n",
        "\n",
        "Note: A more modern and \"safer\" way to open, read, and close the file is to use a `with` block.  This ensures that the file is closed even if an error occurs while reading it.\n",
        "\n",
        "```python\n",
        "with open('en_US.txt', 'r') as f:\n",
        "    contents = f.read()\n",
        "```\n",
        "\n",
        "Like most objects, file objects have a number of methods.  Above we used the `read()` method to read the entire file into a string.  We can also use the `readline()` method to read a single line from the file.  This is useful if we want to read the file line-by-line.  Or we can use the `readlines()` method to read the entire file into a list of strings, one for each line.\n",
        "\n",
        "Let's read in our two files and start playing."
      ]
    },
    {
      "cell_type": "code",
      "execution_count": 1,
      "metadata": {},
      "outputs": [
        {
          "name": "stdout",
          "output_type": "stream",
          "text": [
            "Unexpected exception formatting exception. Falling back to standard exception\n"
          ]
        },
        {
          "name": "stderr",
          "output_type": "stream",
          "text": [
            "Traceback (most recent call last):\n",
            "  File \"/home/codespace/.local/lib/python3.10/site-packages/IPython/core/interactiveshell.py\", line 3526, in run_code\n",
            "    exec(code_obj, self.user_global_ns, self.user_ns)\n",
            "  File \"/tmp/ipykernel_38966/684283502.py\", line 41, in <module>\n",
            "    result = same_words(newlist, clearlist)\n",
            "  File \"/tmp/ipykernel_38966/684283502.py\", line -1, in same_words\n",
            "KeyboardInterrupt\n",
            "\n",
            "During handling of the above exception, another exception occurred:\n",
            "\n",
            "Traceback (most recent call last):\n",
            "  File \"/home/codespace/.local/lib/python3.10/site-packages/IPython/core/interactiveshell.py\", line 2120, in showtraceback\n",
            "    stb = self.InteractiveTB.structured_traceback(\n",
            "  File \"/home/codespace/.local/lib/python3.10/site-packages/IPython/core/ultratb.py\", line 1435, in structured_traceback\n",
            "    return FormattedTB.structured_traceback(\n",
            "  File \"/home/codespace/.local/lib/python3.10/site-packages/IPython/core/ultratb.py\", line 1326, in structured_traceback\n",
            "    return VerboseTB.structured_traceback(\n",
            "  File \"/home/codespace/.local/lib/python3.10/site-packages/IPython/core/ultratb.py\", line 1173, in structured_traceback\n",
            "    formatted_exception = self.format_exception_as_a_whole(etype, evalue, etb, number_of_lines_of_context,\n",
            "  File \"/home/codespace/.local/lib/python3.10/site-packages/IPython/core/ultratb.py\", line 1088, in format_exception_as_a_whole\n",
            "    frames.append(self.format_record(record))\n",
            "  File \"/home/codespace/.local/lib/python3.10/site-packages/IPython/core/ultratb.py\", line 970, in format_record\n",
            "    frame_info.lines, Colors, self.has_colors, lvals\n",
            "  File \"/home/codespace/.local/lib/python3.10/site-packages/IPython/core/ultratb.py\", line 792, in lines\n",
            "    return self._sd.lines\n",
            "  File \"/home/codespace/.local/lib/python3.10/site-packages/stack_data/utils.py\", line 144, in cached_property_wrapper\n",
            "    value = obj.__dict__[self.func.__name__] = self.func(obj)\n",
            "  File \"/home/codespace/.local/lib/python3.10/site-packages/stack_data/core.py\", line 734, in lines\n",
            "    pieces = self.included_pieces\n",
            "  File \"/home/codespace/.local/lib/python3.10/site-packages/stack_data/utils.py\", line 144, in cached_property_wrapper\n",
            "    value = obj.__dict__[self.func.__name__] = self.func(obj)\n",
            "  File \"/home/codespace/.local/lib/python3.10/site-packages/stack_data/core.py\", line 681, in included_pieces\n",
            "    pos = scope_pieces.index(self.executing_piece)\n",
            "  File \"/home/codespace/.local/lib/python3.10/site-packages/stack_data/utils.py\", line 144, in cached_property_wrapper\n",
            "    value = obj.__dict__[self.func.__name__] = self.func(obj)\n",
            "  File \"/home/codespace/.local/lib/python3.10/site-packages/stack_data/core.py\", line 660, in executing_piece\n",
            "    return only(\n",
            "  File \"/home/codespace/.local/lib/python3.10/site-packages/executing/executing.py\", line 190, in only\n",
            "    raise NotOneValueFound('Expected one value, found 0')\n",
            "executing.executing.NotOneValueFound: Expected one value, found 0\n"
          ]
        }
      ],
      "source": [
        "########################\n",
        "# Read word-list files #\n",
        "########################\n",
        "\n",
        "with open(\"en_US.txt\", \"r\") as f: \n",
        "    enUS = f.read()\n",
        "\n",
        "with open(\"en_GB.txt\", \"r\") as f: \n",
        "    enGB = f.read()\n",
        "\n",
        "\n",
        "# Step 1: Change strings to lists\n",
        "enUSlist = enUS.splitlines() # Doing enUS.split('\\n') also works\n",
        "newlist = []\n",
        "\n",
        "\n",
        "#Step 2: Cleaning up lists \n",
        "for word in enUSlist: \n",
        "    if \"'\" not in word: \n",
        "        newlist.append(word) \n",
        "\n",
        "\n",
        "enGBlist = enGB.splitlines()\n",
        "clearlist = []\n",
        "\n",
        "for word in enGBlist: \n",
        "    if \"'\" not in word: \n",
        "        clearlist.append(word)\n",
        "\n",
        "#print(clearlist)\n",
        "\n",
        "#Step 3: Creating a function\n",
        "def same_words(list1, list2): \n",
        "    counter = 0\n",
        "    for words in list1: \n",
        "        if words in list2:\n",
        "            counter += 1\n",
        "    return counter\n",
        "\n",
        "#Step 4: Run function and receive answer\n",
        "result = same_words(newlist, clearlist)\n",
        "print(result)"
      ]
    },
    {
      "cell_type": "markdown",
      "metadata": {},
      "source": [
        "### Your tasks\n",
        "\n",
        "Your goal is to determine how many words are spelled the same in both American and British English, and how many are spelled differently.  \n",
        "\n",
        "Work with a partner to:\n",
        "\n",
        "1. Decide on a strategy. Will you keep the entire dictionary as a string?  Or make it into a list?  Either way, how are you going to search for words that are different?  How will you keep track of the words that are the same?\n",
        "2. Do some basic exploration of the data.  Do you need to clean up the data before you start?  Note, there are going to be some words in the dictionary that you maybe should exclude from your search.  How can you do this?\n",
        "3. Decide what functions should you create to help you complete your task.  What should they do?  What arguments should they take?  What should they return?\n",
        "4. Write the function(s) and use it/them to answer the main question.\n",
        "\n",
        "### Bonus\n",
        "Here are a few additional questions you can try to answer if you have time:\n",
        "\n",
        "1. Which letter occurs most frequently in words that are spelled differently?  \n",
        "2. What is the shortest and longest words that are spelled differently?"
      ]
    },
    {
      "cell_type": "code",
      "execution_count": null,
      "metadata": {},
      "outputs": [],
      "source": []
    }
  ],
  "metadata": {
    "colab": {
      "include_colab_link": true,
      "provenance": []
    },
    "kernelspec": {
      "display_name": "Python 3",
      "name": "python3"
    },
    "language_info": {
      "codemirror_mode": {
        "name": "ipython",
        "version": 3
      },
      "file_extension": ".py",
      "mimetype": "text/x-python",
      "name": "python",
      "nbconvert_exporter": "python",
      "pygments_lexer": "ipython3",
      "version": "3.10.8"
    }
  },
  "nbformat": 4,
  "nbformat_minor": 0
}
