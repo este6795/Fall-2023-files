{
  "cells": [
    {
      "cell_type": "markdown",
      "metadata": {},
      "source": [
        "# Friday, October 13\n",
        "\n",
        "## Announcements and Reminders\n",
        "- Exam 1 revisions due today.\n",
        "- Read the rest of chapter 9 for Monday.\n",
        "- Task 1 for the Final Project is due Monday on Canvas.\n",
        "- Programming Assignment 4 due next Friday.\n"
      ]
    },
    {
      "cell_type": "markdown",
      "metadata": {},
      "source": [
        "## Activity: The more things change, the more they stay the same, unless they are lists\n",
        "\n",
        "Today we will consider how to modify iterable objects: strings, lists, and tuples.  But first...\n",
        "\n",
        "### Warmup\n",
        "\n",
        "Go to the [Peer Instruction ](https://runestone.academy/runestone/peer/student.html) page in our textbook.\n",
        "\n",
        "### Follow-up\n",
        "\n",
        "Last time we worked on comparing two lists of words.  Here is one way some of you implemented that."
      ]
    },
    {
      "cell_type": "code",
      "execution_count": 1,
      "metadata": {},
      "outputs": [
        {
          "name": "stdout",
          "output_type": "stream",
          "text": [
            "95344\n",
            "95174\n"
          ]
        },
        {
          "ename": "KeyboardInterrupt",
          "evalue": "",
          "output_type": "error",
          "traceback": [
            "\u001b[0;31m---------------------------------------------------------------------------\u001b[0m",
            "\u001b[0;31mKeyboardInterrupt\u001b[0m                         Traceback (most recent call last)",
            "\u001b[1;32m/workspaces/Fall-2023-files/ClassActivities/Week08/3-Friday.ipynb Cell 3\u001b[0m line \u001b[0;36m2\n\u001b[1;32m     <a href='vscode-notebook-cell://codespaces%2Bshiny-guacamole-r4gw4rr479vr2xgg6/workspaces/Fall-2023-files/ClassActivities/Week08/3-Friday.ipynb#W2sdnNjb2RlLXJlbW90ZQ%3D%3D?line=19'>20</a>\u001b[0m \u001b[39mfor\u001b[39;00m word \u001b[39min\u001b[39;00m enUS:\n\u001b[1;32m     <a href='vscode-notebook-cell://codespaces%2Bshiny-guacamole-r4gw4rr479vr2xgg6/workspaces/Fall-2023-files/ClassActivities/Week08/3-Friday.ipynb#W2sdnNjb2RlLXJlbW90ZQ%3D%3D?line=20'>21</a>\u001b[0m   \u001b[39mif\u001b[39;00m word \u001b[39min\u001b[39;00m enGB:\n\u001b[0;32m---> <a href='vscode-notebook-cell://codespaces%2Bshiny-guacamole-r4gw4rr479vr2xgg6/workspaces/Fall-2023-files/ClassActivities/Week08/3-Friday.ipynb#W2sdnNjb2RlLXJlbW90ZQ%3D%3D?line=21'>22</a>\u001b[0m     common\u001b[39m.\u001b[39;49mappend(word)\n\u001b[1;32m     <a href='vscode-notebook-cell://codespaces%2Bshiny-guacamole-r4gw4rr479vr2xgg6/workspaces/Fall-2023-files/ClassActivities/Week08/3-Friday.ipynb#W2sdnNjb2RlLXJlbW90ZQ%3D%3D?line=23'>24</a>\u001b[0m \u001b[39mprint\u001b[39m(\u001b[39mlen\u001b[39m(common))\n",
            "\u001b[0;31mKeyboardInterrupt\u001b[0m: "
          ]
        }
      ],
      "source": [
        "def file2list(filename):\n",
        "  with open(filename, \"r\") as f:\n",
        "    contents = f.read()\n",
        "  allwords = contents.split('\\n')\n",
        "  cleanlist = []\n",
        "  for word in allwords:\n",
        "    if \"'\" not in word:\n",
        "      cleanlist.append(word)\n",
        "  cleanlist.sort()\n",
        "  return cleanlist\n",
        "\n",
        "enUS = file2list(\"en_US.txt\")\n",
        "enGB = file2list(\"en_GB.txt\")\n",
        "\n",
        "print(len(enUS))\n",
        "print(len(enGB))\n",
        "\n",
        "\n",
        "common = []\n",
        "for word in enUS:\n",
        "  if word in enGB:\n",
        "    common.append(word)\n",
        "\n",
        "print(len(common))"
      ]
    },
    {
      "cell_type": "markdown",
      "metadata": {},
      "source": [
        "Can we do better?"
      ]
    },
    {
      "cell_type": "code",
      "execution_count": 2,
      "metadata": {},
      "outputs": [
        {
          "name": "stdout",
          "output_type": "stream",
          "text": [
            "92508\n"
          ]
        }
      ],
      "source": [
        "common = []\n",
        "\n",
        "i = 0\n",
        "for word in enUS: \n",
        "    while enGB[i] <= word :\n",
        "        if enGB[i] == word: \n",
        "            common.append(word)\n",
        "            break\n",
        "        i += 1\n",
        "\n",
        "print(len(common))"
      ]
    },
    {
      "cell_type": "markdown",
      "metadata": {},
      "source": [
        "### Mutating strings and lists\n",
        "\n",
        "Try the following tasks:\n",
        "\n",
        "For the string and list below, write code that prints the 3rd element of the string/list."
      ]
    },
    {
      "cell_type": "code",
      "execution_count": null,
      "metadata": {},
      "outputs": [],
      "source": [
        "s = \"Bazinga\"\n",
        "l = [\"Sheldon\", \"Leonard\", \"Penny\", \"Howard\", \"Raj\"]"
      ]
    },
    {
      "cell_type": "markdown",
      "metadata": {},
      "source": [
        "Now write code that *removes* the 3rd element in the string/list.  Print out the resulting, shorter, string/list."
      ]
    },
    {
      "cell_type": "code",
      "execution_count": null,
      "metadata": {},
      "outputs": [],
      "source": []
    },
    {
      "cell_type": "markdown",
      "metadata": {},
      "source": [
        "Now add the character \"!\" to the end of the string, and the name \"Amy\" to the end of the list"
      ]
    },
    {
      "cell_type": "code",
      "execution_count": null,
      "metadata": {},
      "outputs": [],
      "source": []
    },
    {
      "cell_type": "markdown",
      "metadata": {},
      "source": [
        "Wait! Maybe \"Bazinga\" should be spelled \"BaZinga\".  Replace the lower case \"z\" with a capital \"Z\".  \n",
        "\n",
        "For the list, add \"Bernadette\" right after \"Howard\".  And move \"Amy\" to be right after \"Sheldon\"."
      ]
    },
    {
      "cell_type": "code",
      "execution_count": null,
      "metadata": {},
      "outputs": [],
      "source": []
    }
  ],
  "metadata": {
    "colab": {
      "include_colab_link": true,
      "provenance": []
    },
    "kernelspec": {
      "display_name": "Python 3",
      "name": "python3"
    },
    "language_info": {
      "codemirror_mode": {
        "name": "ipython",
        "version": 3
      },
      "file_extension": ".py",
      "mimetype": "text/x-python",
      "name": "python",
      "nbconvert_exporter": "python",
      "pygments_lexer": "ipython3",
      "version": "3.10.8"
    }
  },
  "nbformat": 4,
  "nbformat_minor": 0
}
