{
  "cells": [
    {
      "cell_type": "markdown",
      "metadata": {},
      "source": [
        "# Monday, September 25\n",
        "\n",
        "## Announcements and Reminders\n",
        "- Chapter 6 and 7 exercises due today\n",
        "- Programming Assignment 3: Wednesday\n",
        "- Exam 1: Monday, October 2\n",
        "\n",
        "### Questions:"
      ]
    },
    {
      "cell_type": "markdown",
      "metadata": {},
      "source": [
        "## Activity: Loops and conditionals, all mixed up\n",
        "\n",
        "Last time we saw that you can put loops inside of loops.  You can also put conditionals inside of loops.  Let's investigate!\n",
        "\n",
        "### Actually Counting Dominoes\n",
        "\n",
        "Recall we asked: How many different dominoes can there be?  A domino contains two sides, and each side has a number between 0 and 6 on it.  The domino (3,5) is the same as the domino (5,3).  So how many dominoes are there?  \n",
        "\n",
        "Let's write a function that computes this.  While we are at it, why don't we let the function answer more questions: instead of going up to 6, let's go up to any number we want.  Maybe we even ask the function to print out the dominoes for us.\n",
        "\n",
        "Below is the function we came up with in class last time:"
      ]
    },
    {
      "cell_type": "markdown",
      "metadata": {},
      "source": [
        "### Quiz 3 Answers"
      ]
    },
    {
      "cell_type": "code",
      "execution_count": 8,
      "metadata": {},
      "outputs": [
        {
          "name": "stdout",
          "output_type": "stream",
          "text": [
            "59\n"
          ]
        }
      ],
      "source": [
        "counter = 0 \n",
        "for i in range(10, 100):\n",
        "    if (i % 2 == 0) or (i % 3 == 0):\n",
        "        counter += 1\n",
        "print(counter)"
      ]
    },
    {
      "cell_type": "code",
      "execution_count": 13,
      "metadata": {},
      "outputs": [
        {
          "ename": "KeyboardInterrupt",
          "evalue": "",
          "output_type": "error",
          "traceback": [
            "\u001b[0;31m---------------------------------------------------------------------------\u001b[0m",
            "\u001b[0;31mKeyboardInterrupt\u001b[0m                         Traceback (most recent call last)",
            "\u001b[1;32m/workspaces/Fall-2023-files/ClassActivities/Week06/1-Monday.ipynb Cell 5\u001b[0m line \u001b[0;36m3\n\u001b[1;32m      <a href='vscode-notebook-cell://codespaces%2Bshiny-guacamole-r4gw4rr479vr2xgg6/workspaces/Fall-2023-files/ClassActivities/Week06/1-Monday.ipynb#X20sdnNjb2RlLXJlbW90ZQ%3D%3D?line=0'>1</a>\u001b[0m counter \u001b[39m=\u001b[39m \u001b[39m0\u001b[39m\n\u001b[1;32m      <a href='vscode-notebook-cell://codespaces%2Bshiny-guacamole-r4gw4rr479vr2xgg6/workspaces/Fall-2023-files/ClassActivities/Week06/1-Monday.ipynb#X20sdnNjb2RlLXJlbW90ZQ%3D%3D?line=1'>2</a>\u001b[0m x \u001b[39m=\u001b[39m \u001b[39m10\u001b[39m\n\u001b[0;32m----> <a href='vscode-notebook-cell://codespaces%2Bshiny-guacamole-r4gw4rr479vr2xgg6/workspaces/Fall-2023-files/ClassActivities/Week06/1-Monday.ipynb#X20sdnNjb2RlLXJlbW90ZQ%3D%3D?line=2'>3</a>\u001b[0m \u001b[39mwhile\u001b[39;00m x \u001b[39m<\u001b[39m \u001b[39m100\u001b[39m:\n\u001b[1;32m      <a href='vscode-notebook-cell://codespaces%2Bshiny-guacamole-r4gw4rr479vr2xgg6/workspaces/Fall-2023-files/ClassActivities/Week06/1-Monday.ipynb#X20sdnNjb2RlLXJlbW90ZQ%3D%3D?line=3'>4</a>\u001b[0m      \u001b[39mif\u001b[39;00m (x \u001b[39m%\u001b[39m \u001b[39m2\u001b[39m \u001b[39m==\u001b[39m \u001b[39m0\u001b[39m) \u001b[39mor\u001b[39;00m (x \u001b[39m%\u001b[39m \u001b[39m3\u001b[39m \u001b[39m==\u001b[39m \u001b[39m0\u001b[39m):\n\u001b[1;32m      <a href='vscode-notebook-cell://codespaces%2Bshiny-guacamole-r4gw4rr479vr2xgg6/workspaces/Fall-2023-files/ClassActivities/Week06/1-Monday.ipynb#X20sdnNjb2RlLXJlbW90ZQ%3D%3D?line=4'>5</a>\u001b[0m         counter \u001b[39m+\u001b[39m\u001b[39m=\u001b[39m \u001b[39m1\u001b[39m\n",
            "\u001b[0;31mKeyboardInterrupt\u001b[0m: "
          ]
        }
      ],
      "source": [
        "counter = 0\n",
        "x = 10\n",
        "while x < 100:\n",
        "     if (x % 2 == 0) or (x % 3 == 0):\n",
        "        counter += 1\n",
        "print(counter)"
      ]
    },
    {
      "cell_type": "code",
      "execution_count": 14,
      "metadata": {},
      "outputs": [
        {
          "name": "stdout",
          "output_type": "stream",
          "text": [
            "231\n"
          ]
        }
      ],
      "source": [
        "def dominoCounter(n:int) -> int: #We are trying to find all possible Domino combinations\n",
        "  count = 0\n",
        "  for x in range(n + 1): #Including n value in the range\n",
        "    for y in range(n + 1): \n",
        "      if (x <= y): # We know that the \"bad\" dominos were composed of x being greater than y, therefore we can limit it fixing our repeat issue\n",
        "        #print(f\"({x},{y})\")\n",
        "        count += 1 #Count gives back our possible combinations\n",
        "  return count\n",
        "\n",
        "print(dominoCounter(20))"
      ]
    },
    {
      "cell_type": "markdown",
      "metadata": {},
      "source": [
        "The problem is, we are counting some dominoes twice: (2,5) is the same domino as (5,2).  So what can we do to fix this?  Try to modify the code above."
      ]
    },
    {
      "cell_type": "markdown",
      "metadata": {},
      "source": [
        "### Another domino question\n",
        "\n",
        "Suppose we wanted to create an cell a game that contained over 1000 dominoes!  What number would be need to go up to on each domino?  It's not 6, since that only gives us 28 dominos.  Is it 7?  8?  Of course, we can use the function we wrote above to keep trying, but let's put python to work for us.  \n",
        "\n",
        "What sort of loop should we use?"
      ]
    },
    {
      "cell_type": "code",
      "execution_count": 21,
      "metadata": {},
      "outputs": [
        {
          "name": "stdout",
          "output_type": "stream",
          "text": [
            "1413\n"
          ]
        }
      ],
      "source": [
        "def dotsForDominoes(n):\n",
        "    k = 1\n",
        "    while dominoCounter(k) < n:\n",
        "        k += 1\n",
        "    return k\n",
        "#  for k in range(n):\n",
        "#    if dominoCounter(k) > n: \n",
        "#      return k\n",
        "\n",
        "print(dotsForDominoes(1000000))"
      ]
    },
    {
      "cell_type": "markdown",
      "metadata": {},
      "source": [
        "### Identifying Primes\n",
        "\n",
        "A number is **prime** provided it is a positive integer greater than 1 with exactly two divisors (i.e. factors): 1 and itself.  Integers greater than 1 which are not prime are called **composite**.  Your third programming assignment asks you to write some functions working with prime numbers.  For this, we need to decide whether a given number is prime to start with.\n",
        "\n",
        "Let's start by considering an example: is 2479 prime?  What would *you* do to answer this, if you didn't have anything besides a basic calculator?  Start by using python just as a basic calculator to answer this question."
      ]
    },
    {
      "cell_type": "code",
      "execution_count": 26,
      "metadata": {},
      "outputs": [
        {
          "name": "stdout",
          "output_type": "stream",
          "text": [
            "False\n",
            "False\n",
            "False\n",
            "False\n",
            "False\n",
            "False\n",
            "False\n",
            "False\n",
            "False\n"
          ]
        }
      ],
      "source": [
        "print(2479 % 2 == 0)\n",
        "print(2479 % 3 == 0)\n",
        "print(2479 % 5 == 0)\n",
        "print(2479 % 7 == 0)\n",
        "print(2479 % 11 == 0)\n",
        "print(2479 % 13 == 0)\n",
        "print(2479 % 17 == 0)\n",
        "print(2479 % 19 == 0)\n",
        "print(2479 % 23 == 0)"
      ]
    },
    {
      "cell_type": "code",
      "execution_count": 34,
      "metadata": {},
      "outputs": [
        {
          "name": "stdout",
          "output_type": "stream",
          "text": [
            "37\n"
          ]
        },
        {
          "data": {
            "text/plain": [
              "False"
            ]
          },
          "execution_count": 34,
          "metadata": {},
          "output_type": "execute_result"
        }
      ],
      "source": [
        "def is_prime(n:int) -> int:\n",
        "    if n == 1: \n",
        "        return False\n",
        "    if n == 2: \n",
        "        return True\n",
        "    for divisor in range(2, n):\n",
        "        if (n % divisor) == 0:\n",
        "            print(divisor)\n",
        "            return False\n",
        "    return True\n",
        "is_prime(2479)"
      ]
    },
    {
      "cell_type": "markdown",
      "metadata": {},
      "source": [
        "Now let's try to write a function that tells us whether a number is a multiple of 2, 3, or 5.  "
      ]
    },
    {
      "cell_type": "code",
      "execution_count": null,
      "metadata": {},
      "outputs": [],
      "source": [
        "def is235mult(n):\n",
        "  pass"
      ]
    }
  ],
  "metadata": {
    "colab": {
      "include_colab_link": true,
      "provenance": []
    },
    "kernelspec": {
      "display_name": "Python 3",
      "name": "python3"
    },
    "language_info": {
      "codemirror_mode": {
        "name": "ipython",
        "version": 3
      },
      "file_extension": ".py",
      "mimetype": "text/x-python",
      "name": "python",
      "nbconvert_exporter": "python",
      "pygments_lexer": "ipython3",
      "version": "3.10.8"
    }
  },
  "nbformat": 4,
  "nbformat_minor": 0
}
