{
  "cells": [
    {
      "cell_type": "markdown",
      "metadata": {},
      "source": [
        "# Friday, September 29\n",
        "\n",
        "## Announcements and Reminders\n",
        "- Programming Assignment 3: due tonight (really this time)\n",
        "- Deadline for makeup-quizzes: Monday at 1pm\n",
        "- Exam 1: Wednesday, October 4 (in class)\n",
        "  - Take home due Friday October 6\n"
      ]
    },
    {
      "cell_type": "markdown",
      "metadata": {},
      "source": [
        "## Today's Class: Review\n",
        "\n",
        "Question about the review guide?"
      ]
    },
    {
      "cell_type": "code",
      "execution_count": 3,
      "metadata": {},
      "outputs": [
        {
          "name": "stdout",
          "output_type": "stream",
          "text": [
            "25\n"
          ]
        }
      ],
      "source": [
        "# f(x) = x^2 if x < 0, 3x if x <= 0 and x<= 2, 1-x/4 if x>2\n",
        "\n",
        "def f(x:int) -> int:\n",
        "    if x < 0:\n",
        "        return x ** 2\n",
        "    elif 0 <= x <= 2: #Technically you can rewrite as (x>= 0) and (x<= 2)\n",
        "        return 3 * x\n",
        "    else: \n",
        "        return (1-x) / 4\n",
        "    \n",
        "print(f(-5))"
      ]
    },
    {
      "cell_type": "code",
      "execution_count": 6,
      "metadata": {},
      "outputs": [
        {
          "name": "stdout",
          "output_type": "stream",
          "text": [
            "16\n"
          ]
        }
      ],
      "source": [
        "#Here is a mathematical function defined recursively: f (n) = 3f (n − 1) − 5 with f (0) = 4\n",
        "def f(n:int) -> int:\n",
        "    if n == 0: \n",
        "        return 4\n",
        "    else: \n",
        "        return 3 * f(n - 1) - 5\n",
        "print(f(2))"
      ]
    },
    {
      "cell_type": "markdown",
      "metadata": {},
      "source": [
        "### A few big ideas\n",
        "\n",
        "In case we need some inspiration for question to ask for review purposes, we can try the following.\n",
        "\n",
        "#### If-and-or-else\n",
        "\n",
        "Suppose you wanted to check whether a string contained one or more specific letters.  \n",
        "\n",
        "It turns out that python provides a special keyword `in` that can be helpful.\n",
        "In the context of strings, the expression `\"s\" in \"abc\"` would evaluate to the boolean value of `False`, while `\"b\" in \"abc\"` evaluates to `True`.\n",
        "\n",
        "Use this to write a function that determines whether its input string contains any \"a\"s."
      ]
    },
    {
      "cell_type": "code",
      "execution_count": 3,
      "metadata": {},
      "outputs": [
        {
          "name": "stdout",
          "output_type": "stream",
          "text": [
            "True\n"
          ]
        }
      ],
      "source": [
        "def has_a(teststring:str) -> bool:\n",
        "  \"\"\"\n",
        "  Returns True if teststring has an 'a' in it, False otherwise\n",
        "  \"\"\"\n",
        "  if (\"a\" in teststring):\n",
        "    return True\n",
        "  else: \n",
        "    return False\n",
        "  \n",
        "\n",
        "print(has_a(\"avacado\"))"
      ]
    },
    {
      "cell_type": "markdown",
      "metadata": {},
      "source": [
        "Now for the fun: modify the function above to test whether the `teststring` contains an \"a\" or an \"e\". \n",
        "\n",
        "Then modify the function to test whether the input contains both an \"a\" and an \"e\".\n",
        "\n",
        "What if we want to check whether the string contains an \"a\" or an \"e\" but not both?"
      ]
    },
    {
      "cell_type": "code",
      "execution_count": 17,
      "metadata": {},
      "outputs": [
        {
          "name": "stdout",
          "output_type": "stream",
          "text": [
            "True\n",
            "False\n",
            "True\n"
          ]
        }
      ],
      "source": [
        "# Function that tests if teststring has \"a\" or \"e\"\n",
        "def has_a_or_e(teststring:str) -> bool:\n",
        "  \"\"\"\n",
        "  Returns True if teststring has \"a\" or \"e\"\n",
        "  \"\"\"\n",
        "  if (\"a\" in teststring) or (\"e\" in teststring):\n",
        "    return True\n",
        "  else: \n",
        "    return False \n",
        "\n",
        "print(has_a_or_e(\"peach\"))\n",
        "\n",
        "\n",
        "#Function that tests if teststring has both \"a\" and \"e\"\n",
        "def has_a_and_e(teststring:str) -> bool:\n",
        "  \"\"\"\n",
        "  Returns True if teststring has both \"a\" and \"e\"\n",
        "  \"\"\"\n",
        "  if (\"a\" in teststring) and (\"e\" in teststring):\n",
        "    return True\n",
        "  else: \n",
        "    return False\n",
        "print(has_a_and_e(\"acorn\"))\n",
        "\n",
        "\n",
        "#Function that tests if teststring does not have \"a\" or \"e\"\n",
        "def no_a_or_e(teststring:str) -> bool:\n",
        "  \"\"\"\n",
        "  Returns False if teststring has \"a\" or \"e\"\n",
        "  \"\"\"\n",
        "  if (\"a\" in teststring) or (\"e\" in teststring):\n",
        "    return False\n",
        "  else: \n",
        "    return True\n",
        "\n",
        "print(no_a_or_e(\"pick\"))"
      ]
    },
    {
      "cell_type": "markdown",
      "metadata": {},
      "source": [
        "#### Loops:\n",
        "\n",
        "Say we wanted to discover not *whether* a string contains a particular letter, but *how many* of that letter it contains.  What can we do?"
      ]
    },
    {
      "cell_type": "code",
      "execution_count": 24,
      "metadata": {},
      "outputs": [
        {
          "name": "stdout",
          "output_type": "stream",
          "text": [
            "4\n"
          ]
        }
      ],
      "source": [
        "def vowel_count(teststring):\n",
        "    \"\"\"\n",
        "    Returns the number of vowels in teststring\n",
        "    \"\"\"\n",
        "    vowels = \"aeiou\"  # Define a string containing all vowels\n",
        "    vowel_count = 0\n",
        "\n",
        "    for char in teststring:\n",
        "        if char.lower() in vowels:\n",
        "            vowel_count += 1\n",
        "\n",
        "    return vowel_count\n",
        "\n",
        "print(vowel_count(\"avocado\"))  \n"
      ]
    },
    {
      "cell_type": "markdown",
      "metadata": {},
      "source": [
        "#### When to use `while`\n",
        "\n",
        "Suppose you wanted to investigate the famous \"Harmonic Series\": the infinite sum,\n",
        "$$1+\\frac{1}{2} + \\frac{1}{3} + \\frac{1}{4} + \\frac{1}{5} + \\cdots$$\n",
        "\n",
        "What does it even mean to add up infinitely many numbers?  Take Calculus 2 to find out!  But in this case, we can say if we add up the first $n$ terms of the series, we get a number $H_n$, called the $n$-th **harmonic number**.  As $n$ gets larger, $H_n$ gets closer and closer to the infinite sum.\n",
        "\n",
        "Let's do this by writing a function that computes the $n$-th harmonic number."
      ]
    },
    {
      "cell_type": "code",
      "execution_count": 31,
      "metadata": {},
      "outputs": [
        {
          "ename": "KeyboardInterrupt",
          "evalue": "",
          "output_type": "error",
          "traceback": [
            "\u001b[0;31m---------------------------------------------------------------------------\u001b[0m",
            "\u001b[0;31mKeyboardInterrupt\u001b[0m                         Traceback (most recent call last)",
            "\u001b[1;32m/workspaces/Fall-2023-files/ClassActivities/Week06/3-Friday.ipynb Cell 12\u001b[0m line \u001b[0;36m1\n\u001b[1;32m     <a href='vscode-notebook-cell://codespaces%2Bshiny-guacamole-r4gw4rr479vr2xgg6/workspaces/Fall-2023-files/ClassActivities/Week06/3-Friday.ipynb#X13sdnNjb2RlLXJlbW90ZQ%3D%3D?line=12'>13</a>\u001b[0m     harmonic_sum \u001b[39m+\u001b[39m\u001b[39m=\u001b[39m \u001b[39m1\u001b[39m \u001b[39m/\u001b[39m n\n\u001b[1;32m     <a href='vscode-notebook-cell://codespaces%2Bshiny-guacamole-r4gw4rr479vr2xgg6/workspaces/Fall-2023-files/ClassActivities/Week06/3-Friday.ipynb#X13sdnNjb2RlLXJlbW90ZQ%3D%3D?line=14'>15</a>\u001b[0m   \u001b[39mreturn\u001b[39;00m harmonic_sum\n\u001b[0;32m---> <a href='vscode-notebook-cell://codespaces%2Bshiny-guacamole-r4gw4rr479vr2xgg6/workspaces/Fall-2023-files/ClassActivities/Week06/3-Friday.ipynb#X13sdnNjb2RlLXJlbW90ZQ%3D%3D?line=16'>17</a>\u001b[0m \u001b[39mprint\u001b[39m(harmonic(\u001b[39m99999999999999\u001b[39;49m))\n",
            "\u001b[1;32m/workspaces/Fall-2023-files/ClassActivities/Week06/3-Friday.ipynb Cell 12\u001b[0m line \u001b[0;36m1\n\u001b[1;32m     <a href='vscode-notebook-cell://codespaces%2Bshiny-guacamole-r4gw4rr479vr2xgg6/workspaces/Fall-2023-files/ClassActivities/Week06/3-Friday.ipynb#X13sdnNjb2RlLXJlbW90ZQ%3D%3D?line=10'>11</a>\u001b[0m \u001b[39m#Finding the nth number of the harmonic series\u001b[39;00m\n\u001b[1;32m     <a href='vscode-notebook-cell://codespaces%2Bshiny-guacamole-r4gw4rr479vr2xgg6/workspaces/Fall-2023-files/ClassActivities/Week06/3-Friday.ipynb#X13sdnNjb2RlLXJlbW90ZQ%3D%3D?line=11'>12</a>\u001b[0m \u001b[39mfor\u001b[39;00m i \u001b[39min\u001b[39;00m \u001b[39mrange\u001b[39m (\u001b[39m1\u001b[39m, n \u001b[39m+\u001b[39m \u001b[39m1\u001b[39m):\n\u001b[0;32m---> <a href='vscode-notebook-cell://codespaces%2Bshiny-guacamole-r4gw4rr479vr2xgg6/workspaces/Fall-2023-files/ClassActivities/Week06/3-Friday.ipynb#X13sdnNjb2RlLXJlbW90ZQ%3D%3D?line=12'>13</a>\u001b[0m   harmonic_sum \u001b[39m+\u001b[39m\u001b[39m=\u001b[39m \u001b[39m1\u001b[39m \u001b[39m/\u001b[39m n\n\u001b[1;32m     <a href='vscode-notebook-cell://codespaces%2Bshiny-guacamole-r4gw4rr479vr2xgg6/workspaces/Fall-2023-files/ClassActivities/Week06/3-Friday.ipynb#X13sdnNjb2RlLXJlbW90ZQ%3D%3D?line=14'>15</a>\u001b[0m \u001b[39mreturn\u001b[39;00m harmonic_sum\n",
            "\u001b[0;31mKeyboardInterrupt\u001b[0m: "
          ]
        }
      ],
      "source": [
        "def harmonic(n):\n",
        "  \"\"\"\n",
        "  Returns the nth harmonic number\n",
        "  \"\"\"\n",
        "  #Limiting n to positives as the harmonic series consists of only positive numbers\n",
        "  if n <= 0: \n",
        "    return None \n",
        "  \n",
        "  harmonic_sum = 0\n",
        "\n",
        "  #Finding the nth number of the harmonic series\n",
        "  for i in range (1, n + 1):\n",
        "    harmonic_sum += 1 / n\n",
        "  \n",
        "  return harmonic_sum\n",
        "  \n",
        "print(harmonic(99999999999999))\n"
      ]
    },
    {
      "cell_type": "markdown",
      "metadata": {},
      "source": [
        "How large do the harmonic numbers get?  Is there a harmonic number larger than 3?  Larger than 4?  Larger than 5?  Larger than 6?  Larger than 7?  Larger than 8?  Larger than 9?  Larger than 10?  Larger than 11?  Larger than 12?  Larger than 13?  Larger than 14?  Larger than 15?  Larger than 16?  Larger than 17?  Larger than 18?  Larger than 19?  Larger than 20?  Larger than 21?  Larger than 22?  Larger than 23?  Larger than 24?  Larger than 25?  Larger than 26?  Larger than 27?  Larger than 28?  Larger than 29?  Larger than 30?  Larger than 31?  Larger than 32?  Larger than 33?  Larger than 34?  Larger than 35?  Larger than 36?  Larger than 37?  Larger than 38?  Larger than 39?  Larger than 40?  Larger than 41?  Larger than 42?  Larger than 43?  Larger than 44?  Larger than 45?  Larger than 46?  Larger than 47?  Larger than 48?  Larger than 49?  Larger than 50?  Larger than 51?  Larger than 52?  Larger than 53?  Larger than 54?  Larger than 55?  Larger than 56?  Larger than 57?  Larger than 58?  Larger than 59?  Larger than 60?  Larger than 61?  Larger than 62?  Larger than 63?  Larger than 64?  Larger than 65?  Larger than 66?  Larger than 67?  Larger than 68?  Larger than 69?  Larger than 70?  Larger than 71?  Larger than 72?  Larger than 73?  Larger than 74?  Larger than 75?  Larger than 76?  Larger than 77?  Larger than 78?  Larger than 79?  Larger than 80?  Larger than 81?  Larger than 82?  Larger than 83?  Larger than 84?  Larger than 85?  Larger than 86? \n",
        "\n",
        "(thanks chatGPT for the text above)\n",
        "\n",
        "### How could we find out?  Should we use the function we defined above?  Why or why not?\n",
        "\n",
        "The harmonic function does not get any bigger than 2 given that the beginning number is 1. Moreover, while technically it is possible to test whether the harmonic function exceeds a certain number, it would be impractical as we would never reach the final sum as it is infinite. On top of that, running the program above with a large number would take a long time as it would have to add up all the previous factions before it.\n",
        "\n"
      ]
    },
    {
      "cell_type": "markdown",
      "metadata": {},
      "source": [
        "#### Another case for `while`\n",
        "\n",
        "Let's create a python function whose only job is to give us square roots.  Lots of them.  Over and over.  Until we tell it to stop. \n",
        "\n",
        "That is, once we start our program, it will prompt us for a number, and then print out the square root.  It will then prompt us for another number, and print out the square root.  And so on.  If we ever enter \"stop\", it will stop.\n",
        "\n",
        "(Write this function out in a standalone file.)"
      ]
    },
    {
      "cell_type": "code",
      "execution_count": 39,
      "metadata": {},
      "outputs": [
        {
          "name": "stdout",
          "output_type": "stream",
          "text": [
            "The Square root of 9 is 3.0.\n",
            "The Square root of 4 is 2.0.\n",
            "The Square root of 16 is 4.0.\n",
            "Goodbye\n"
          ]
        }
      ],
      "source": [
        "import math\n",
        "\n",
        "def square_root(n) -> None:\n",
        "    input(\"Hello user! I will give you the square roots of numbers.\")\n",
        "\n",
        "    userInput = input('Please enter a number. Type \"quit\" to quit: ')\n",
        "    answer = 0  \n",
        "\n",
        "    while userInput.lower() != 'quit':\n",
        "        intUserInput = int(userInput)\n",
        "        answer = math.sqrt(intUserInput)\n",
        "        print(\"The Square root of \" + str(intUserInput) + \" is \" + str(answer) + \".\")\n",
        "        userInput = input('Please enter the next number or type \"quit\" to quit: ')\n",
        "\n",
        "    print(\"Goodbye\")\n",
        "\n",
        "square_root(2)"
      ]
    },
    {
      "cell_type": "markdown",
      "metadata": {},
      "source": [
        "#### Fun with recursion\n",
        "\n",
        "How many times can you divide a number in half before you get a fraction?  For example, 8 can be divided in half 3 times before we get a fraction: $8 \\to 4 \\to 2 \\to 1$.  But 18 can only be divided in half once: $18 \\to 9$, since $9 /2 = 4.5$."
      ]
    },
    {
      "cell_type": "code",
      "execution_count": null,
      "metadata": {},
      "outputs": [],
      "source": [
        "def faction_finder(n:int) -> int: \n",
        "    for divisor in range (1 , n + 1): \n",
        "        while "
      ]
    }
  ],
  "metadata": {
    "colab": {
      "include_colab_link": true,
      "provenance": []
    },
    "kernelspec": {
      "display_name": "Python 3",
      "name": "python3"
    },
    "language_info": {
      "codemirror_mode": {
        "name": "ipython",
        "version": 3
      },
      "file_extension": ".py",
      "mimetype": "text/x-python",
      "name": "python",
      "nbconvert_exporter": "python",
      "pygments_lexer": "ipython3",
      "version": "3.10.8"
    }
  },
  "nbformat": 4,
  "nbformat_minor": 0
}
