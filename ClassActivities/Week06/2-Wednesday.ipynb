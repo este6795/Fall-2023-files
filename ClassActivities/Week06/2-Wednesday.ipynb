{
  "cells": [
    {
      "cell_type": "markdown",
      "metadata": {},
      "source": [
        "# Wednesday, September 27\n",
        "\n",
        "## Announcements and Reminders\n",
        "- Programming Assignment 3: due tonight\n",
        "- Deadline for makeup-quizzes: Friday at 1pm\n",
        "- Exam 1: Monday, October 2 (in class)\n",
        "  - Take home due Wednesday October 4\n",
        "\n",
        "### Questions:"
      ]
    },
    {
      "cell_type": "markdown",
      "metadata": {},
      "source": [
        "## Today's Class: Practice Take-home and Programming Assignment\n",
        "\n",
        "Go to Canvas.  Select \"Practice Take Home 1\" assignment.  Load Runestone through link.\n"
      ]
    },
    {
      "cell_type": "markdown",
      "metadata": {},
      "source": [
        "Write a function sequence_next where the next number is the previous number multiplied by 2. For instance sequence_next(25) = 32 as the sequence goes: 1,2,4,8,16. "
      ]
    },
    {
      "cell_type": "code",
      "execution_count": 5,
      "metadata": {},
      "outputs": [
        {
          "data": {
            "text/plain": [
              "1"
            ]
          },
          "execution_count": 5,
          "metadata": {},
          "output_type": "execute_result"
        }
      ],
      "source": [
        "def sequence_next(n:int) -> int: \n",
        "    if n == 1: \n",
        "        return\n",
        "    else:\n",
        "        answer =  sequence_next(n - 1) \n",
        "    return answer\n",
        "\n",
        "sequence_next(25)"
      ]
    }
  ],
  "metadata": {
    "colab": {
      "include_colab_link": true,
      "provenance": []
    },
    "kernelspec": {
      "display_name": "Python 3",
      "name": "python3"
    },
    "language_info": {
      "codemirror_mode": {
        "name": "ipython",
        "version": 3
      },
      "file_extension": ".py",
      "mimetype": "text/x-python",
      "name": "python",
      "nbconvert_exporter": "python",
      "pygments_lexer": "ipython3",
      "version": "3.10.8"
    }
  },
  "nbformat": 4,
  "nbformat_minor": 0
}
