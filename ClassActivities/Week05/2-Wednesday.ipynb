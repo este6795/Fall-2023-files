{
  "cells": [
    {
      "cell_type": "markdown",
      "metadata": {},
      "source": [
        "# Wednesday, September 20\n",
        "## Before Class:\n",
        "Find a *new* group to sit with\n",
        "\n",
        "## Announcements and Reminders\n",
        "- Programming Assignment 2: Due tonight!  \n",
        "- Read Chapter 7: Due today.\n",
        "- Chapter 6 and 7 exercises due Monday\n",
        "- Programming Assigment 3: Due in 1 week\n",
        "- Exam 1: Monday, October 2\n",
        "\n",
        "### Questions:"
      ]
    },
    {
      "cell_type": "markdown",
      "metadata": {},
      "source": [
        "## Activity: Lots-o-Loops\n",
        "\n",
        "We have now seen three ways to use *iteration* (i.e. loops): we can use function recursion, a `while` loop, or a `for` loop.  \n",
        "\n",
        "Look at the three examples below."
      ]
    },
    {
      "cell_type": "code",
      "execution_count": 7,
      "metadata": {},
      "outputs": [
        {
          "name": "stdout",
          "output_type": "stream",
          "text": [
            "Before the return, we have n = 10 and count = 0\n",
            "Before the return, we have n = 10 and count = 1\n",
            "Before the return, we have n = 10 and count = 2\n",
            "Before the return, we have n = 10 and count = 3\n",
            "Before the return, we have n = 10 and count = 4\n",
            "Before the return, we have n = 10 and count = 5\n",
            "Before the return, we have n = 10 and count = 6\n",
            "Before the return, we have n = 10 and count = 7\n",
            "Before the return, we have n = 10 and count = 8\n",
            "Before the return, we have n = 10 and count = 9\n",
            "We are in the else case...\n"
          ]
        },
        {
          "data": {
            "text/plain": [
              "55"
            ]
          },
          "execution_count": 7,
          "metadata": {},
          "output_type": "execute_result"
        }
      ],
      "source": [
        "def sumto(n, count =0 ):\n",
        "  if count < n:\n",
        "    print(f\"Before the return, we have n = {n} and count = {count}\")\n",
        "    return count + sumto(n, count + 1)\n",
        "  else:\n",
        "    print(\"We are in the else case...\")\n",
        "    return n \n",
        "\n",
        "sumto(10)"
      ]
    },
    {
      "cell_type": "markdown",
      "metadata": {},
      "source": [
        "### Ok let's do that again but in a much simpler way"
      ]
    },
    {
      "cell_type": "code",
      "execution_count": 11,
      "metadata": {},
      "outputs": [
        {
          "name": "stdout",
          "output_type": "stream",
          "text": [
            "At this point, count = 2 and sum is = 1\n",
            "At this point, count = 3 and sum is = 3\n",
            "At this point, count = 4 and sum is = 6\n",
            "At this point, count = 5 and sum is = 10\n",
            "At this point, count = 6 and sum is = 15\n",
            "At this point, count = 7 and sum is = 21\n",
            "At this point, count = 8 and sum is = 28\n",
            "At this point, count = 9 and sum is = 36\n",
            "At this point, count = 10 and sum is = 45\n",
            "At this point, count = 11 and sum is = 55\n",
            "55\n"
          ]
        }
      ],
      "source": [
        "def sumwhile(n:int) -> int:\n",
        "  sum = 0\n",
        "  count = 1\n",
        "  while count <= n:\n",
        "    sum += count\n",
        "    count += 1\n",
        "    print(f\"At this point, count = {count} and sum is = {sum}\")\n",
        "  return sum\n",
        "\n",
        "print(sumwhile(10))"
      ]
    },
    {
      "cell_type": "markdown",
      "metadata": {},
      "source": [
        "### Alright, alright, how about we try using a for loop instead of a while loop"
      ]
    },
    {
      "cell_type": "code",
      "execution_count": 45,
      "metadata": {},
      "outputs": [
        {
          "name": "stdout",
          "output_type": "stream",
          "text": [
            "At this point , count is 5 and sum is <built-in function sum>\n"
          ]
        },
        {
          "ename": "SyntaxError",
          "evalue": "'return' outside function (4139448399.py, line 6)",
          "output_type": "error",
          "traceback": [
            "\u001b[0;36m  Cell \u001b[0;32mIn[45], line 6\u001b[0;36m\u001b[0m\n\u001b[0;31m    return sum\u001b[0m\n\u001b[0m    ^\u001b[0m\n\u001b[0;31mSyntaxError\u001b[0m\u001b[0;31m:\u001b[0m 'return' outside function\n"
          ]
        }
      ],
      "source": [
        "def sumfor(n:int) -> int:\n",
        "  sum = 0\n",
        "  for count in range(n + 1):\n",
        "    sum = sum + count\n",
        "  print(\"At this point , count is \" + str(count) + \" and sum is \" + str(sum))\n",
        "  return sum\n",
        "\n",
        "print(sumfor(100))"
      ]
    },
    {
      "cell_type": "markdown",
      "metadata": {},
      "source": [
        "As you can see, there are multiple ways to accomplish the same looping behavior.  Today you will practice converting between these.  For each example below, decide what the program is doing and then rewrite it using a different kind of loop (of your choice).  If you have extra time, try giving *another* implementation of it."
      ]
    },
    {
      "cell_type": "code",
      "execution_count": 41,
      "metadata": {},
      "outputs": [
        {
          "name": "stdout",
          "output_type": "stream",
          "text": [
            "1\n",
            "2\n",
            "3\n",
            "4\n",
            "5\n",
            "6\n",
            "7\n",
            "8\n",
            "9\n",
            "10\n"
          ]
        }
      ],
      "source": [
        "n = int(input(\"I can count to any number! I'll show you: give me a number under 10\"))\n",
        "\n",
        "count = 1\n",
        "if n == count:\n",
        "  print(count)\n",
        "else:\n",
        "  count = count + 1\n",
        "  if n == count:\n",
        "    print(1, count)\n",
        "  else:\n",
        "    count = count + 1\n",
        "    if n == count:\n",
        "      print(1, 2, count)\n",
        "    else:\n",
        "      count = count + 1\n",
        "      if n == count:\n",
        "        print(1, 2, 3, count)\n",
        "      else:\n",
        "        count = count + 1\n",
        "        if n == count:\n",
        "          print(1, 2, 3, 4, count)\n",
        "\n",
        "# Implement the above (or better) using a for or while loop below:\n",
        "\n",
        "def num_counter (n:int) -> int:\n",
        "  for i in range (n):\n",
        "    i += 1\n",
        "    print (i)\n",
        "\n",
        "\n",
        "num_counter(10)"
      ]
    },
    {
      "cell_type": "code",
      "execution_count": 23,
      "metadata": {},
      "outputs": [
        {
          "name": "stdout",
          "output_type": "stream",
          "text": [
            "33\n"
          ]
        },
        {
          "data": {
            "text/plain": [
              "33"
            ]
          },
          "execution_count": 23,
          "metadata": {},
          "output_type": "execute_result"
        }
      ],
      "source": [
        "def countMultiples(n:int, k:int) -> int:\n",
        "  count = 0\n",
        "  for i in range(1, k):\n",
        "    if i % n == 0:\n",
        "      count = count + 1\n",
        "  return count\n",
        "\n",
        "print(countMultiples(3, 100))\n",
        "\n",
        "# Implement the function above, but this time use a while loop instead of a for loop.\n",
        "\n",
        "def recountMultiples(n,k):\n",
        "  count = 0 \n",
        "  i = 1 \n",
        "  while i < k: \n",
        "    if i % n == 0: # We do not need an else statement as the program will terminate itself once \"i\" is not less than \"k\"\n",
        "      count += 1\n",
        "    i += 1\n",
        "  return count\n",
        "\n",
        "recountMultiples(3,100)"
      ]
    },
    {
      "cell_type": "code",
      "execution_count": 40,
      "metadata": {},
      "outputs": [
        {
          "name": "stdout",
          "output_type": "stream",
          "text": [
            "16\n"
          ]
        },
        {
          "data": {
            "text/plain": [
              "16"
            ]
          },
          "execution_count": 40,
          "metadata": {},
          "output_type": "execute_result"
        }
      ],
      "source": [
        "def sqr(n):\n",
        "  total = 0\n",
        "  next = 1\n",
        "  counter = 0\n",
        "  while counter < n:\n",
        "    total = total + next\n",
        "    next = next + 2\n",
        "    counter = counter + 1\n",
        "  return total\n",
        "\n",
        "print(sqr(4))\n",
        "\n",
        "# Reimplement the function above but this time use a for loop instead of a while loop.\n",
        "\n",
        "def resqr(n:int) -> int:\n",
        "  total = 0 \n",
        "  for w in range(abs(n)): # We are considering the use of negative numbers the absolute value function helps fix that\n",
        "    total += abs(n)\n",
        "  return total\n",
        "\n",
        "\n",
        "resqr(4)"
      ]
    },
    {
      "cell_type": "code",
      "execution_count": 7,
      "metadata": {},
      "outputs": [
        {
          "name": "stdout",
          "output_type": "stream",
          "text": [
            "3\n"
          ]
        },
        {
          "data": {
            "text/plain": [
              "3"
            ]
          },
          "execution_count": 7,
          "metadata": {},
          "output_type": "execute_result"
        }
      ],
      "source": [
        "def fib(n): # The code appears to be calcuating the \"nth\" number of the fibonacci sequence\n",
        "  if n == 0:\n",
        "    return 0\n",
        "  elif n == 1:\n",
        "    return 1\n",
        "  else:\n",
        "    return fib(n-1) + fib(n-2)\n",
        "  \n",
        "print(fib(4))\n",
        "# Implement the above function using either a for or while loop\n",
        "\n",
        " # Define a new code to calculate fibonacci sequence\n",
        "def refib(n):\n",
        "  #Checking if number is equal to 0 or 1 (These are the 1st and second number in the fibonacci sequence)\n",
        "  if n == 0:\n",
        "    return 0\n",
        "  elif n == 1: \n",
        "    return 1\n",
        "  \n",
        "  # Define the start of the fibonacci Sequence\n",
        "  prev_num = 0 \n",
        "  current_num = 1 \n",
        "\n",
        "\n",
        "# If the number is not 0 or 1, then find the nth number of the sequence\n",
        "  for w in range(2, n + 1): \n",
        "    next_fib = prev_num + current_num \n",
        "    prev_num = current_num\n",
        "    current_num = next_fib\n",
        "\n",
        "  return current_num\n",
        "\n",
        "refib(4)"
      ]
    },
    {
      "cell_type": "markdown",
      "metadata": {},
      "source": [
        "### Counting things\n",
        "\n",
        "A great use of loops is to count *how many* things there are.  For example, consider the following function:"
      ]
    },
    {
      "cell_type": "code",
      "execution_count": null,
      "metadata": {},
      "outputs": [],
      "source": [
        "def countup(thing):\n",
        "  count = 0\n",
        "  for i in thing:\n",
        "    count = count+1\n",
        "  return count\n",
        "\n",
        "print(countup(\"One, Two, Three\"))\n",
        "\n",
        "print(countup([\"One\", \"Two\", \"Three\"]))\n",
        "\n",
        "print(countup(range(5, 17, 2)))"
      ]
    },
    {
      "cell_type": "markdown",
      "metadata": {},
      "source": [
        "So here is a challenge: How many different dominoes can there be?  A domino contains two sides, and each side has a number between 0 and 6 on it.  The domino (3,5) is the same as the domino (5,3).  So how many dominoes are there?  \n",
        "\n",
        "Let's write a function that computes this.  While we are at it, why don't we let the function answer more questions: instead of going up to 6, let's go up to any number we want.  Maybe we even ask the function to print out the dominoes for us."
      ]
    },
    {
      "cell_type": "code",
      "execution_count": null,
      "metadata": {},
      "outputs": [],
      "source": [
        "def dominoCounter(n):\n",
        "  pass"
      ]
    }
  ],
  "metadata": {
    "colab": {
      "include_colab_link": true,
      "provenance": []
    },
    "kernelspec": {
      "display_name": "Python 3",
      "name": "python3"
    },
    "language_info": {
      "codemirror_mode": {
        "name": "ipython",
        "version": 3
      },
      "file_extension": ".py",
      "mimetype": "text/x-python",
      "name": "python",
      "nbconvert_exporter": "python",
      "pygments_lexer": "ipython3",
      "version": "3.10.8"
    }
  },
  "nbformat": 4,
  "nbformat_minor": 0
}
