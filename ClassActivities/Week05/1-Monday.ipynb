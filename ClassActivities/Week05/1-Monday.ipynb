{
  "cells": [
    {
      "cell_type": "markdown",
      "metadata": {},
      "source": [
        "# Monday, September 18\n",
        "## Before Class:\n",
        "Find a new group to sit with\n",
        "\n",
        "## Announcements and Reminders\n",
        "- Chapter 5 Exercises: Due Today\n",
        "- Read Chapter 6: Due Today\n",
        "- Programming Assignment 2: Due Wednesday.  \n",
        "  - Student hour today: 1:30-3:30\n",
        "- Read Chapter 7: Due Wednesday\n",
        "\n",
        "### Questions:"
      ]
    },
    {
      "cell_type": "markdown",
      "metadata": {
        "id": "rPcP5eWXAO1Y"
      },
      "source": [
        "\n",
        "## Activity: Guess who, part three\n",
        "\n",
        "We have been thinking about how to write a program that can narrow down choices by considering the answers to questions.  For arbitrary animals, thinking about what questions to ask can be challenging, and then keeping track of what animals are still viable is also challenging.\n",
        "\n",
        "Let's simplify this by changing the game: instead of picking one of 26 animals, let's pick one of 1000 numbers."
      ]
    },
    {
      "cell_type": "markdown",
      "metadata": {},
      "source": [
        "The long road...."
      ]
    },
    {
      "cell_type": "code",
      "execution_count": 6,
      "metadata": {},
      "outputs": [
        {
          "name": "stdout",
          "output_type": "stream",
          "text": [
            "Hi!  I'm the python magician.  Think of any number less than 1000.\n",
            "Ah I can see it! I can see your number! It is quite lonely however.... is your number 1?\n"
          ]
        }
      ],
      "source": [
        "print(\"Hi!  I'm the python magician.  Think of any number less than 1000.\")\n",
        "\n",
        "q1 = input (\"Is your number bigger that 1?\")\n",
        "if q1 == \"yes\" or q1 == \"Yes\":\n",
        "    q2 = input(\"Is your number bigger than 2?\")\n",
        "    if q2 == \"yes\" or q2 == \"Yes\":\n",
        "        q3 = input(\"Is your number bigger than 3?\")\n",
        "    else: \n",
        "        print(\"Hmmm, it appears your number is 2\")\n",
        "else: \n",
        "    print(\"Ah I can see it! I can see your number! It is quite lonely however.... is your number 1?\") "
      ]
    },
    {
      "cell_type": "markdown",
      "metadata": {},
      "source": [
        "Add some questions above to try to guess the number.  Use conditionals.  How many lines of code will you need to write?\n",
        "\n",
        "You might want to use a function to consolidate some of the lines of code you keep repeating."
      ]
    },
    {
      "cell_type": "markdown",
      "metadata": {},
      "source": [
        "### Ask for a pony\n",
        "\n",
        "Forget for a moment that you are trying to implement this program in python.  Or that you are trying to implement this as all.  What would be a good strategy to get an answer?\n",
        "\n",
        "Then ask: what sort of mechanism would you need to implement this?  If you could have a pony..."
      ]
    },
    {
      "cell_type": "code",
      "execution_count": 12,
      "metadata": {},
      "outputs": [
        {
          "name": "stdout",
          "output_type": "stream",
          "text": [
            "Hi!  I'm the python magician.  Think of any number less than 1000.\n"
          ]
        }
      ],
      "source": [
        "print(\"Hi!  I'm the python magician.  Think of any number less than 1000.\")\n",
        "\n",
        "number = 1\n",
        "counter = 0\n",
        "\n",
        "answer = input(\"Is your number greater than \"+  str(number) + \"?\")\n",
        "while answer == \"yes\":\n",
        "    if counter < 1000:\n",
        "        number = number + 1\n",
        "        answer = input(\"Is your number greater than \"+  str(number) + \"?\")\n",
        "    else: \n",
        "        break\n",
        "print(\"Aha! You are thinking of the number\" + str(number) + \"?\")"
      ]
    },
    {
      "cell_type": "markdown",
      "metadata": {},
      "source": [
        "### Now we are going to fiddle with multiplication\n",
        "\n",
        "Now I know python can multiply, however let's pretend it does not. \n",
        "Write a code for multiplication."
      ]
    },
    {
      "cell_type": "code",
      "execution_count": 3,
      "metadata": {},
      "outputs": [
        {
          "name": "stdout",
          "output_type": "stream",
          "text": [
            "Hello! I will help multiply numbers for you!!!\n"
          ]
        },
        {
          "data": {
            "text/plain": [
              "12"
            ]
          },
          "execution_count": 3,
          "metadata": {},
          "output_type": "execute_result"
        }
      ],
      "source": [
        "print(\"Hello! I will help multiply numbers for you!!!\")\n",
        "\n",
        "def multiply (x:int, y:int) -> int: \n",
        "    counter = 0\n",
        "    total = 0\n",
        "    while counter < y:\n",
        "        total = total + x\n",
        "        counter = counter + 1\n",
        "    return total\n",
        "multiply(3, 4)"
      ]
    },
    {
      "cell_type": "code",
      "execution_count": 6,
      "metadata": {},
      "outputs": [
        {
          "name": "stdout",
          "output_type": "stream",
          "text": [
            "0\n",
            "1\n",
            "2\n",
            "3\n",
            "4\n",
            "5\n",
            "6\n"
          ]
        },
        {
          "data": {
            "text/plain": [
              "21"
            ]
          },
          "execution_count": 6,
          "metadata": {},
          "output_type": "execute_result"
        }
      ],
      "source": [
        "def mult(x:int, y:int) -> int:\n",
        "    total = 0 \n",
        "    for counter in range(y): #Note: Counter is used even though it isn't defined previously. In the for loop, however, counter is defined by the range of y [1, 2, 3, 4, 5, 6, 7]. \n",
        "        total = total + x\n",
        "        print(counter)\n",
        "    return total\n",
        "\n",
        "mult(3, 7)"
      ]
    }
  ],
  "metadata": {
    "colab": {
      "include_colab_link": true,
      "provenance": []
    },
    "kernelspec": {
      "display_name": "Python 3",
      "name": "python3"
    },
    "language_info": {
      "codemirror_mode": {
        "name": "ipython",
        "version": 3
      },
      "file_extension": ".py",
      "mimetype": "text/x-python",
      "name": "python",
      "nbconvert_exporter": "python",
      "pygments_lexer": "ipython3",
      "version": "3.10.8"
    }
  },
  "nbformat": 4,
  "nbformat_minor": 0
}
