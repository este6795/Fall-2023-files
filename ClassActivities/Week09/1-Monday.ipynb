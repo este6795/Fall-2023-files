{
  "cells": [
    {
      "cell_type": "markdown",
      "metadata": {},
      "source": [
        "# Monday, October 16\n",
        "\n",
        "## Announcements and Reminders\n",
        "- Read the rest of chapter 9 for today.\n",
        "- Task 1 for the Final Project is due Monday on Canvas.\n",
        "- Quiz on Wednesday on strings and lists.\n",
        "- Programming Assignment 4 due ~~Wednesday~~ Friday.\n",
        "- Chapter 8 and 9 exercises will be due Friday.\n"
      ]
    },
    {
      "cell_type": "markdown",
      "metadata": {},
      "source": [
        "## Activity: The more things change, the more they stay the same, unless they are lists\n",
        "\n",
        "Today we will consider how to modify iterable objects: strings, lists, and tuples. "
      ]
    },
    {
      "cell_type": "markdown",
      "metadata": {},
      "source": [
        "### Mutating strings and lists\n",
        "\n",
        "Try the following tasks:\n",
        "\n",
        "For the string and list below, write code that prints the 3rd element of the string/list."
      ]
    },
    {
      "cell_type": "code",
      "execution_count": 73,
      "metadata": {},
      "outputs": [
        {
          "name": "stdout",
          "output_type": "stream",
          "text": [
            "Bazinga\n",
            "['Sheldon', 'Leonard', 'Penny', 'Howard', 'Raj']\n"
          ]
        }
      ],
      "source": [
        "s = \"Bazinga\"\n",
        "l = [\"Sheldon\", \"Leonard\", \"Penny\", \"Howard\", \"Raj\"]\n",
        "\n",
        "print(s)\n",
        "print(l)"
      ]
    },
    {
      "cell_type": "markdown",
      "metadata": {},
      "source": [
        "Now write code that *removes* the 3rd element in the string/list.  Print out the resulting, shorter, string/list."
      ]
    },
    {
      "cell_type": "code",
      "execution_count": 74,
      "metadata": {},
      "outputs": [
        {
          "name": "stdout",
          "output_type": "stream",
          "text": [
            "['Sheldon', 'Leonard', 'Howard', 'Raj']\n"
          ]
        }
      ],
      "source": [
        "#print(l.index(\"Penny\"))\n",
        "#print(l[2])\n",
        "\n",
        "if \"Penny\" in l: \n",
        "    l.remove(\"Penny\") #Can also do (l[2])\n",
        "\n",
        "    #Another method \n",
        "    #del l[2]\n",
        "    #print(l)\n",
        "print(l)"
      ]
    },
    {
      "cell_type": "markdown",
      "metadata": {},
      "source": [
        "Now add the character \"!\" to the end of the string, and the name \"Amy\" to the end of the list"
      ]
    },
    {
      "cell_type": "code",
      "execution_count": 75,
      "metadata": {},
      "outputs": [
        {
          "name": "stdout",
          "output_type": "stream",
          "text": [
            "Bazinga!\n",
            "['Sheldon', 'Leonard', 'Howard', 'Raj', 'Amy']\n"
          ]
        }
      ],
      "source": [
        "s = s + \"!\"\n",
        "print(s)\n",
        "\n",
        "b = \"Amy\" #(\"Amy\") also works \n",
        "l.append(b)\n",
        "print(l)\n",
        "\n",
        "#l = l + [\"Amy\"]"
      ]
    },
    {
      "cell_type": "markdown",
      "metadata": {},
      "source": [
        "Wait! Maybe \"Bazinga\" should be spelled \"BaZinga\".  Replace the lower case \"z\" with a capital \"Z\".  \n",
        "\n",
        "For the list, add \"Bernadette\" right after \"Howard\".  And move \"Amy\" to be right after \"Sheldon\"."
      ]
    },
    {
      "cell_type": "code",
      "execution_count": 84,
      "metadata": {},
      "outputs": [
        {
          "name": "stdout",
          "output_type": "stream",
          "text": [
            "BaZinga!\n",
            "['Sheldon', 'Amy', 'Leonard', 'Bernadette', 'Howard', 'Raj', 'Amy']\n"
          ]
        }
      ],
      "source": [
        "s = \"Bazinga!\"\n",
        "l = ['Sheldon', 'Leonard', 'Howard', 'Raj', 'Amy']\n",
        "#s = s.replace(\"z\", \"Z\") #Remember strings are immutable. As such we need to reassign s to the command\n",
        "#print(s)\n",
        "\n",
        "# Another Method\n",
        "s = s[:2] + \"Z\" + s[3:]\n",
        "\n",
        "print(s)\n",
        "l.insert(2, \"Bernadette\")\n",
        "l = l[:1] + [\"Amy\"] + l[1:]\n",
        "l.\n",
        "print(l)"
      ]
    },
    {
      "cell_type": "markdown",
      "metadata": {},
      "source": [
        "### Tuples\n",
        "\n",
        "Think of tuples as immutable lists.  We write them with parentheses: `(3,5,1)` instead of `[3,5,1]` (which is a list).  \n",
        "\n",
        "In general, the length of a tuple should be fixed (where as lists can grow and shrink).  It also usually does not make sense to *sort* a tuple, since the position in a tuple is meaningful (for example, a tuple might represent the coordinates of a point $(x,y)$).\n",
        "\n",
        "Explore tuples by executing the code below."
      ]
    },
    {
      "cell_type": "code",
      "execution_count": 86,
      "metadata": {},
      "outputs": [
        {
          "name": "stdout",
          "output_type": "stream",
          "text": [
            "3\n"
          ]
        }
      ],
      "source": [
        "t = (3,5,1)\n",
        "print(t[0])"
      ]
    },
    {
      "cell_type": "code",
      "execution_count": 87,
      "metadata": {},
      "outputs": [
        {
          "name": "stdout",
          "output_type": "stream",
          "text": [
            "(3, 5, 1, 3, 5, 1)\n",
            "(3, 5, 1, 3, 5, 1, 7)\n"
          ]
        }
      ],
      "source": [
        "t = t + t\n",
        "print(t)\n",
        "t = t + (7,) # You have to add the \",\" at the end so that the tuples are added \n",
        "print(t)\n",
        "# What happens if you run this code a second time?"
      ]
    },
    {
      "cell_type": "code",
      "execution_count": 89,
      "metadata": {},
      "outputs": [
        {
          "name": "stdout",
          "output_type": "stream",
          "text": [
            "2\n",
            "6\n",
            "0\n",
            "20 not in sequence\n",
            "No\n"
          ]
        }
      ],
      "source": [
        "seq = (1, 1, 2, 3, 5, 8, 13 , 21, 34, 55, 89)\n",
        "print(seq.count(1))\n",
        "print(seq.index(13))\n",
        "print(seq.count(20))\n",
        "\n",
        "if seq.count(20) > 0: \n",
        "    print(seq.index(20))\n",
        "else: \n",
        "    print(\"20 not in sequence\")\n",
        "\n",
        "# Technically you can use a try/except method, however it is not recommended \n",
        "try:  \n",
        "    print(seq.index(20))\n",
        "except: \n",
        "    print(\"No\")"
      ]
    },
    {
      "cell_type": "markdown",
      "metadata": {},
      "source": [
        "How can you find the index of an element in a tuple if you don't know whether the element is in the tuple to start with?  That is, can you do something like `list.find()` but for tuples?"
      ]
    }
  ],
  "metadata": {
    "colab": {
      "include_colab_link": true,
      "provenance": []
    },
    "kernelspec": {
      "display_name": "Python 3",
      "name": "python3"
    },
    "language_info": {
      "codemirror_mode": {
        "name": "ipython",
        "version": 3
      },
      "file_extension": ".py",
      "mimetype": "text/x-python",
      "name": "python",
      "nbconvert_exporter": "python",
      "pygments_lexer": "ipython3",
      "version": "3.10.8"
    }
  },
  "nbformat": 4,
  "nbformat_minor": 0
}
