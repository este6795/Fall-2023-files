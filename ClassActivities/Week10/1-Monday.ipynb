{
  "cells": [
    {
      "cell_type": "markdown",
      "metadata": {},
      "source": [
        "# Monday, October 23\n",
        "\n",
        "## Announcements and Reminders\n",
        "\n",
        "- Chapter 10 reading: something is broken\n",
        "- Quiz on Wednesday (dictionaries)\n",
        "- Celebration of Mind Wednesday Evening\n",
        "- Exercises for Chapter 10: due Friday\n"
      ]
    },
    {
      "cell_type": "markdown",
      "metadata": {},
      "source": [
        "## Activity: Counting Words with Dictionaries\n",
        "\n",
        "Today we will continue to explore the `dictionary` type in python.\n",
        "\n",
        "### Motivating Question\n",
        "\n",
        "Which word appears most frequently in Edgar Alan Poe's poem *The Raven*?\n",
        "\n",
        "#### Strategy\n",
        "\n",
        "How would you do this by hand?  How would you keep track of your data?"
      ]
    },
    {
      "cell_type": "markdown",
      "metadata": {},
      "source": [
        "### Dictionary Basics\n",
        "\n",
        "A *dictionary* is a data type in python that holds an unordered list of *key:value* pairs.  The keys must be distinct, the values do not.  \n",
        "\n",
        "Here is an example:"
      ]
    },
    {
      "cell_type": "code",
      "execution_count": 25,
      "metadata": {},
      "outputs": [
        {
          "name": "stdout",
          "output_type": "stream",
          "text": [
            "42\n",
            "{'Oscar': 42, 'Sheldon': 73}\n",
            "[42, 73]\n"
          ]
        }
      ],
      "source": [
        "fav_nums = {'Oscar': 42, 'Sheldon': 73}\n",
        "\n",
        "#We can access the dictionary using the '[]' method\n",
        "print(fav_nums['Oscar'])\n",
        "print(fav_nums)\n",
        "\n",
        "#Here we can also get the keys\n",
        "for person in fav_nums: \n",
        "#    print(fav_nums[person])\n",
        "    print(person)\n",
        "\n",
        "#Here we can also get the values of the keys\n",
        "for x in fav_nums.values(): \n",
        "    print(x)\n",
        "\n",
        "#One important thing, we can change a dictionary into a list using a 'list' command\n",
        "num_list = list(fav_nums.values())\n",
        "print(num_list)"
      ]
    },
    {
      "cell_type": "markdown",
      "metadata": {},
      "source": [
        "Some things to try:\n",
        "* How could we find the favorite number of someone in the dictionary?\n",
        "* How could we print out each favorite number?\n",
        "* How could we get a list of the favorite numbers?\n",
        "* How could we add a new person's favorite number?\n",
        "* How could we check whether 496 is anyone's favorite number?\n",
        "* How could we find the largest favorite number of anyone in the dictionary?\n",
        "\n",
        "Here are some dictionary methods you might try to use: `.get()`, `.items()`, `.keys()`, `.values()`, `.update()`, `.pop()`.\n"
      ]
    },
    {
      "cell_type": "code",
      "execution_count": 31,
      "metadata": {},
      "outputs": [
        {
          "name": "stdout",
          "output_type": "stream",
          "text": [
            "dict_items([('Oscar', 42), ('Sheldon', 73), ('Gigi', 8), ('Nirod', 21)])\n",
            "{'Oscar': 42, 'Sheldon': 73, 'Gigi': 8, 'Nirod': 21, 'Bryce': 23}\n",
            "5\n",
            "False\n",
            "[73, 42, 23, 21, 8]\n",
            "73\n"
          ]
        }
      ],
      "source": [
        "fav_nums = {'Oscar': 42, 'Sheldon': 73}\n",
        "\n",
        "#There are two ways to update a list, the first is to use the update command\n",
        "fav_nums.update({'Gigi': 8, 'Nirod': 21})\n",
        "print(fav_nums.items())\n",
        "\n",
        "#We can also hardcode the new entry\n",
        "fav_nums['Bryce'] = 23\n",
        "print(fav_nums)\n",
        "\n",
        "#We can also view the dictionary length \n",
        "print(len(fav_nums))\n",
        "\n",
        "#Now let's try to look up some values\n",
        "print(496 in fav_nums.values())\n",
        "\n",
        "#How about we try sorting a dictionary \n",
        "nums = list(fav_nums.values())\n",
        "nums.sort(reverse = True)\n",
        "print(nums)"
      ]
    },
    {
      "cell_type": "code",
      "execution_count": 34,
      "metadata": {},
      "outputs": [
        {
          "name": "stdout",
          "output_type": "stream",
          "text": [
            "73\n",
            "Sheldon\n"
          ]
        }
      ],
      "source": [
        "#Now let's try to find who has the biggest value (cont from last part)\n",
        "largest = nums[0]\n",
        "print(largest)\n",
        "\n",
        "for person in fav_nums: \n",
        "    if fav_nums[person] == largest: \n",
        "        print(person)"
      ]
    },
    {
      "cell_type": "markdown",
      "metadata": {},
      "source": [
        "#### Adding new elements to a dictionary\n",
        "\n",
        "With lists, we used `.append()` to add a new item to the list at the end of the list.  Or, if we want to change the item in the list at position 7 to the value 42, say, we could write `mylist[7] = 42`.\n",
        "\n",
        "Dictionaries can similarly be updated like this."
      ]
    },
    {
      "cell_type": "code",
      "execution_count": 35,
      "metadata": {},
      "outputs": [
        {
          "name": "stdout",
          "output_type": "stream",
          "text": [
            "{'Oscar': 42, 'Sheldon': 73, 'Gigi': 8, 'Nirod': 21, 'Bryce': 23, 'Wes': 1, 'Edgar': 13}\n"
          ]
        }
      ],
      "source": [
        "fav_nums.update({\"Wes\":1})\n",
        "fav_nums['Edgar'] = 13\n",
        "\n",
        "print(fav_nums)"
      ]
    },
    {
      "cell_type": "markdown",
      "metadata": {},
      "source": [
        "##### Caution!\n",
        "\n",
        "What happens if you use `.update()` but there is already a key of the name you want to add?  One way to make sure this isn't the case is to use the `.get()` method.  This returns the value of the key, or if the key isn't present, it returns `None`.\n",
        "\n",
        "(You can also set a default value.)"
      ]
    },
    {
      "cell_type": "code",
      "execution_count": 36,
      "metadata": {},
      "outputs": [
        {
          "data": {
            "text/plain": [
              "13"
            ]
          },
          "execution_count": 36,
          "metadata": {},
          "output_type": "execute_result"
        }
      ],
      "source": [
        "fav_nums.get('Edgar')"
      ]
    },
    {
      "cell_type": "markdown",
      "metadata": {},
      "source": [
        "### Back to our main question\n",
        "\n",
        "Let's import the text of the poem (saved as `raven.txt` in this folder).  Print it out to make sure it worked."
      ]
    },
    {
      "cell_type": "code",
      "execution_count": 43,
      "metadata": {},
      "outputs": [
        {
          "name": "stdout",
          "output_type": "stream",
          "text": [
            "['The', 'Raven', 'Edgar', 'Allen', 'Poe', 'Once', 'upon', 'a', 'midnight', 'dreary,', 'while', 'I', 'pondered,', 'weak', 'and', 'weary', 'Over', 'many', 'a', 'quaint', 'and', 'curious', 'volume', 'of', 'forgotten', 'lore,', 'While', 'I', 'nodded,', 'nearly', 'napping,', 'suddenly', 'there', 'came', 'a', 'tapping,', 'As', 'of', 'someone', 'gently', 'rapping,', 'rapping', 'on', 'my', 'chamber', 'door.', \"'Tis\", 'some', \"visitor,'\", 'I', 'muttered,', \"'tapping\", 'on', 'my', 'chamber', 'door.', 'Only', 'this,', 'and', 'nothing', \"more.'\", 'Ah,', 'distinctly,', 'I', 'remember', 'it', 'was', 'in', 'the', 'bleak', 'December', 'And', 'each', 'separate', 'dying', 'ember', 'wrought', 'its', 'ghost', 'upon', 'the', 'floor.', 'Eagerly', 'I', 'wished', 'the', 'morrow,', 'vainly', 'I', 'had', 'sought', 'to', 'borrow', 'From', 'my', 'books', 'surcease', 'of', 'sorrow--sorrow', 'for', 'the', 'lost', 'Lenore;', 'For', 'the', 'rare', 'and', 'radiant', 'maiden', 'whom', 'the', 'angels', 'named', 'Lenore', 'Nameless', 'here', 'forever', 'more.', 'And', 'the', 'silken', 'sad', 'uncertainly', 'rustling', 'of', 'each', 'purple', 'curtain', 'Thrilled', 'me,', 'filled', 'me', 'with', 'fantastic', 'terror', 'never', 'felt', 'before.', 'So,', 'to', 'still', 'the', 'beating', 'of', 'my', 'heart,', 'I', 'stood', 'repeating', 'Tis', 'some', 'visitor', 'entreating', 'entrance', 'at', 'my', 'chamber', 'door.', 'Some', 'late', 'visitor', 'entreating', 'entrance', 'at', 'my', 'chamber', 'door.', 'This', 'it', 'is', 'and', 'nothing', 'more.', 'Presently', 'my', 'soul', 'grew', 'strong,', 'hesitating', 'then', 'no', 'longer', \"'Sir,'\", 'said', 'I,', \"'Or\", 'madam,', 'truly', 'your', 'forgiveness', 'I', 'implore.', 'But', 'the', 'fact', 'is,', 'I', 'was', 'napping,', 'and', 'so', 'gently', 'you', 'came', 'rapping,', 'And', 'so', 'faintly', 'you', 'came', 'tapping,', 'tapping', 'at', 'my', 'chamber', 'door,', 'That', 'I', 'scare', 'was', 'sure', 'I', 'heard', \"you'\", '-', 'here', 'I', 'opened', 'wide', 'the', 'door.', 'Darkness', 'there', 'and', 'nothing', 'more.', 'Deep', 'into', 'the', 'darkness,', 'peering;', 'long', 'I', 'stood', 'there,', 'wondering', 'fearing', 'Doubting,', 'dreaming', 'dreams', 'no', 'mortal', 'ever', 'dared', 'to', 'dream', 'before.', 'But', 'the', 'silence', 'was', 'unbroken,', 'and', 'the', 'stillness', 'gave', 'no', 'token', 'And', 'the', 'only', 'word', 'there', 'spoken', 'was', 'the', 'whispered', 'word', \"'Lenore!'\", 'This', 'I', 'whispered,', 'and', 'an', 'echo', 'murmered', 'back,', \"'Lenore!'\", 'Merely', 'this', 'and', 'nothing', 'more.', 'Back', 'into', 'my', 'chamber', 'turning,', 'all', 'my', 'soul', 'within', 'me', 'burning,', 'soon', 'again', 'I', 'heard', 'a', 'tapping', 'somewhat', 'louder', 'than', 'before.', \"'Surely,'\", 'said', 'I,', \"'surely,\", 'that', 'is', 'something', 'at', 'my', 'window', 'lattice', 'Let', 'me', 'see', 'then', 'what', 'thereat', 'is', 'and', 'this', 'mystery', 'explore.', 'Let', 'my', 'heart', 'be', 'still', 'a', 'minute,', 'and', 'this', 'mystery', 'explore.', 'Tis', 'the', 'wind', 'and', 'nothing', \"more!'\", 'Open', 'wide', 'I', 'flung', 'the', 'shutter,', 'when', 'with', 'many', 'a', 'flirt', 'and', 'flutter', 'In', 'there', 'stepped', 'a', 'stately', 'raven', 'of', 'the', 'saintly', 'days', 'of', 'yore.', 'Not', 'the', 'least', 'obesience', 'made', 'he,', 'not', 'a', 'minute', 'stopped', 'or', 'stayed', 'he', 'But', 'with', 'mein', 'of', 'lord', 'or', 'lady,', 'perched', 'above', 'my', 'chamber', 'door', 'Perched', 'upon', 'a', 'bust', 'of', 'Pallas', 'just', 'above', 'my', 'chamber', 'door.', 'Perched', 'and', 'sat', 'and', 'nothing', 'more.', 'Then', 'this', 'ebony', 'bird', 'beguiling', 'my', 'sad', 'fancy', 'into', 'smiling', 'By', 'the', 'grave', 'and', 'stern', 'decorum', 'of', 'the', 'countenance', 'it', 'wore', \"'Though\", 'thy', 'crest', 'be', 'shorn', 'and', 'shaven,', \"thou,'\", 'I', 'said,', \"'art\", 'sure', 'no', 'craven', 'Ghastly,', 'grim', 'and', 'ancient', 'raven,', 'wandering', 'from', 'the', 'nightly', 'shore.', 'Tell', 'me', 'what', 'thy', 'lordly', 'name', 'is,', 'on', 'the', \"night's\", 'Plutonean', \"shore!'\", 'Quoth', 'the', 'raven:', \"'Nevermore.'\", 'Much', 'I', 'marvelled', 'this', 'ungainly', 'foul', 'to', 'hear', 'discource', 'so', 'plainly.', 'Though', 'its', 'answer', 'little', 'meaning,', 'little', 'relevancy', 'bore.', 'For', 'we', 'cannot', 'help', 'agreeing', 'that', 'no', 'living', 'human', 'being', 'Ever', 'yet', 'was', 'blessed', 'with', 'seeing', 'bird', 'above', 'his', 'chamber', 'door', 'Bird', 'or', 'beast', 'upon', 'the', 'scultured', 'bust', 'above', 'his', 'chamber', 'door', 'With', 'such', 'name', 'as', \"'Nevermore.'\", 'But', 'the', 'Raven,', 'sitting', 'lonely', 'on', 'the', 'placid', 'bust,', 'spoke', 'only', 'That', 'one', 'word,', 'as', 'if', 'his', 'soul,', 'in', 'that', 'one', 'word,', 'he', 'did', 'out', 'outpour.', 'Nothing', 'further', 'then', 'he', 'uttered;', 'not', 'a', 'feather', 'then', 'he', 'fluttered;', \"'Till\", 'I', 'scarcely', 'more', 'than', 'muttered,', '\"Other', 'friends', 'have', 'flown', 'before.\"', 'On', 'the', 'morrow,', 'he', 'will', 'leave', 'me,', 'as', 'my', 'hopes', 'have', 'flown', 'before.\"', 'But', 'the', 'bird', 'said,', \"'Nevermore.'\", 'Startled', 'at', 'the', 'stillness', 'broken,', 'by', 'reply', 'so', 'aptly', 'spoken.', \"'Doubtless,'\", 'said', 'I,', \"'what\", 'it', 'utters', 'is', 'its', 'only', 'stock', 'and', 'store.', 'Caught', 'from', 'some', 'unhappy', 'master,', 'whom', 'unmerciful', 'disaster', 'Followed', 'fast', 'and', 'followed', 'faster,', 'till', 'his', 'song', 'that', 'burden', 'bore.', 'Til', 'the', 'dirges', 'of', 'his', 'hopes', 'that', 'melenchology', 'burden', 'bore', 'Of', '\"Never-nevermore.\"\\'', 'But', 'the', 'raven', 'still', 'beguiling', 'my', 'sad', 'fancy', 'into', 'smiling', 'Straight', 'I', 'wheeled', 'a', 'cushioned', 'seet', 'in', 'front', 'of', 'bird', 'and', 'bust', 'and', 'door', 'Then', 'upon', 'the', 'velvet', 'sinking,', 'I', 'betook', 'myself', 'to', 'linking', 'fancy', 'unto', 'fancy', 'thinking', 'what', 'this', 'ominous', 'bird', 'of', 'yore,', 'What', 'this', 'grim,', 'ungainly,', 'ghastly,', 'gaunt,', 'and', 'ominous', 'bird', 'of', 'yore', 'Meant', 'in', 'croaking', \"'Nevermore.'\", 'This', 'I', 'sat', 'engaged', 'in', 'guessing,', 'but', 'no', 'syllable', 'expressing', 'To', 'the', 'fowl', 'whose', 'fiery', 'eyes', 'now', 'burned', 'into', 'my', \"bosom's\", 'core', 'This', 'and', 'more', 'I', 'sat', 'divining,', 'with', 'my', 'head', 'at', 'rest', 'reclining', 'On', 'the', \"cushion's\", 'velvet', 'lining', 'that', 'the', 'lamplight', 'gloated', \"o'er\", 'But', 'whose', 'velvet', 'violet', 'lining', 'with', 'the', 'lamplight', 'gloating', \"o'er\", 'She', 'shall', 'press,', 'ah,', 'nevermore!', 'Then', 'methought', 'the', 'air', 'grew', 'denser,', 'perfumed', 'from', 'an', 'unseen', 'censor', 'Swung', 'by', 'Seraphim', 'whose', 'footfalls', 'tinkled', 'on', 'the', 'tufted', 'floor.', \"'Wretch,'\", 'I', 'cried,', \"'thy\", 'God', 'hath', 'lent', 'thee,', 'by', 'these', 'angels', 'he', 'hath', 'sent', 'thee', 'Respite,', 'respite', 'and', 'nepenthe', 'from', 'the', 'memories', 'of', 'Lenore.', 'Quaff', 'oh', 'quaff', 'this', 'kind', 'nepenthe', 'and', 'forget', 'this', 'lost', \"Lenore.'\", 'Quoth', 'the', 'raven,', \"'Nevermore.'\", \"'Prophet!'\", 'said', 'I,', \"'thing\", 'of', 'evil,', 'prophet', 'still', 'if', 'bird', 'or', 'devil.', 'Whether', 'temptor', 'sent', 'or', 'tempest', 'tossed', 'thee', 'here', 'ashore.', 'Desolate', 'and', 'all', 'undaunted,', 'by', 'this', 'desert', 'land', 'enchanted', 'By', 'this', 'home', 'of', 'horrors', 'haunted,', 'Tell', 'me', 'truly', 'I', 'implore', 'Is', 'there,', 'is', 'there,', 'balm', 'in', 'Gilead,', 'tell', 'me,', 'tell', 'me,', 'I', \"implore!'\", 'Quoth', 'the', 'raven,', \"'Nevermore.'\", \"'Prophet'\", 'said', 'I,', \"'thing\", 'of', 'evil,', 'prophet', 'still', 'if', 'bird', 'or', 'devil', 'Get', 'thee', 'back', 'into', 'the', 'tempest', 'and', 'the', \"night's\", 'Plutonean', 'shore', 'Tell', 'this', 'soul', 'with', 'sorrow', 'laden,', 'if', 'within', 'some', 'distant', 'Aidenn', 'It', 'will', 'clasp', 'a', 'saintly', 'maiden', 'whom', 'the', 'angels', 'name', 'Lenore', 'Clasp', 'a', 'rare', 'and', 'radiant', 'maiden', 'whom', 'the', 'angels', 'name', \"Lenore?'\", 'Quoth', 'the', 'raven,', \"'Nevermore.'\", 'Be', 'that', 'word', 'our', 'sign', 'of', 'parting,', 'bird', 'or', 'fiend,', 'I', 'shieked', 'upstarting', \"'Get\", 'thee', 'back', 'into', 'the', 'tempest', 'and', 'the', \"night's\", 'Plutonean', 'shore', 'Leave', 'no', 'black', 'plume', 'as', 'a', 'token', 'of', 'the', 'lie', 'thy', 'soul', 'has', 'spoken', 'Leave', 'my', 'loneliness', 'unbroken,', 'quit', 'the', 'bust', 'above', 'my', 'door', 'Take', 'thy', 'beak', 'from', 'out', 'my', 'heart', 'and', 'take', 'thy', 'form', 'from', 'off', 'my', \"door.'\", 'Quoth', 'the', 'raven,', \"'Nevermore.'\", 'And', 'the', 'raven,', 'never', 'flitting,', 'still', 'is', 'sitting,', 'still', 'is', 'sitting', 'On', 'the', 'pallid', 'bust', 'of', 'Pallas,', 'just', 'above', 'my', 'chamber', 'door.', 'And', 'his', 'eyes', 'have', 'all', 'the', 'seeming', 'of', 'a', \"daemon's\", 'that', 'is', 'dreaming', 'And', 'the', 'lamplight', \"o'er\", 'him', 'streaming,', 'throws', 'his', 'shadow', 'on', 'the', 'floor.', 'And', 'my', 'soul', 'from', 'out', 'that', 'shadow', 'floating', 'on', 'the', 'chamber', 'floor', 'Shall', 'be', 'lifted--nevermore.']\n"
          ]
        }
      ],
      "source": [
        "with open ('raven.txt', 'r') as f: \n",
        "    text = f.read()\n",
        "\n",
        "words = text.split()\n",
        "print(words)\n",
        " \n",
        "counter = 0\n",
        "for word in words: \n",
        "    if word == 'nevermore': \n",
        "        counter += 1"
      ]
    },
    {
      "cell_type": "markdown",
      "metadata": {},
      "source": [
        "Next we should make a list of words.\n",
        "\n",
        "What about punctuation?  There are lots of different types of punctuation we need to consider.  Luckily, python has our backs with the `string` library.\n",
        "\n",
        "What about capital and lowercase letters? For simplicity sake let's make everything lower case"
      ]
    },
    {
      "cell_type": "code",
      "execution_count": 47,
      "metadata": {},
      "outputs": [
        {
          "name": "stdout",
          "output_type": "stream",
          "text": [
            "!\"#$%&'()*+,-./:;<=>?@[\\]^_`{|}~\n",
            "['the', 'raven', 'edgar', 'allen', 'poe', 'once', 'upon', 'a', 'midnight', 'dreary', 'while', 'i', 'pondered', 'weak', 'and', 'weary', 'over', 'many', 'a', 'quaint', 'and', 'curious', 'volume', 'of', 'forgotten', 'lore', 'while', 'i', 'nodded', 'nearly', 'napping', 'suddenly', 'there', 'came', 'a', 'tapping', 'as', 'of', 'someone', 'gently', 'rapping', 'rapping', 'on', 'my', 'chamber', 'door', 'tis', 'some', 'visitor', 'i', 'muttered', 'tapping', 'on', 'my', 'chamber', 'door', 'only', 'this', 'and', 'nothing', 'more', 'ah', 'distinctly', 'i', 'remember', 'it', 'was', 'in', 'the', 'bleak', 'december', 'and', 'each', 'separate', 'dying', 'ember', 'wrought', 'its', 'ghost', 'upon', 'the', 'floor', 'eagerly', 'i', 'wished', 'the', 'morrow', 'vainly', 'i', 'had', 'sought', 'to', 'borrow', 'from', 'my', 'books', 'surcease', 'of', 'sorrowsorrow', 'for', 'the', 'lost', 'lenore', 'for', 'the', 'rare', 'and', 'radiant', 'maiden', 'whom', 'the', 'angels', 'named', 'lenore', 'nameless', 'here', 'forever', 'more', 'and', 'the', 'silken', 'sad', 'uncertainly', 'rustling', 'of', 'each', 'purple', 'curtain', 'thrilled', 'me', 'filled', 'me', 'with', 'fantastic', 'terror', 'never', 'felt', 'before', 'so', 'to', 'still', 'the', 'beating', 'of', 'my', 'heart', 'i', 'stood', 'repeating', 'tis', 'some', 'visitor', 'entreating', 'entrance', 'at', 'my', 'chamber', 'door', 'some', 'late', 'visitor', 'entreating', 'entrance', 'at', 'my', 'chamber', 'door', 'this', 'it', 'is', 'and', 'nothing', 'more', 'presently', 'my', 'soul', 'grew', 'strong', 'hesitating', 'then', 'no', 'longer', 'sir', 'said', 'i', 'or', 'madam', 'truly', 'your', 'forgiveness', 'i', 'implore', 'but', 'the', 'fact', 'is', 'i', 'was', 'napping', 'and', 'so', 'gently', 'you', 'came', 'rapping', 'and', 'so', 'faintly', 'you', 'came', 'tapping', 'tapping', 'at', 'my', 'chamber', 'door', 'that', 'i', 'scare', 'was', 'sure', 'i', 'heard', 'you', '', 'here', 'i', 'opened', 'wide', 'the', 'door', 'darkness', 'there', 'and', 'nothing', 'more', 'deep', 'into', 'the', 'darkness', 'peering', 'long', 'i', 'stood', 'there', 'wondering', 'fearing', 'doubting', 'dreaming', 'dreams', 'no', 'mortal', 'ever', 'dared', 'to', 'dream', 'before', 'but', 'the', 'silence', 'was', 'unbroken', 'and', 'the', 'stillness', 'gave', 'no', 'token', 'and', 'the', 'only', 'word', 'there', 'spoken', 'was', 'the', 'whispered', 'word', 'lenore', 'this', 'i', 'whispered', 'and', 'an', 'echo', 'murmered', 'back', 'lenore', 'merely', 'this', 'and', 'nothing', 'more', 'back', 'into', 'my', 'chamber', 'turning', 'all', 'my', 'soul', 'within', 'me', 'burning', 'soon', 'again', 'i', 'heard', 'a', 'tapping', 'somewhat', 'louder', 'than', 'before', 'surely', 'said', 'i', 'surely', 'that', 'is', 'something', 'at', 'my', 'window', 'lattice', 'let', 'me', 'see', 'then', 'what', 'thereat', 'is', 'and', 'this', 'mystery', 'explore', 'let', 'my', 'heart', 'be', 'still', 'a', 'minute', 'and', 'this', 'mystery', 'explore', 'tis', 'the', 'wind', 'and', 'nothing', 'more', 'open', 'wide', 'i', 'flung', 'the', 'shutter', 'when', 'with', 'many', 'a', 'flirt', 'and', 'flutter', 'in', 'there', 'stepped', 'a', 'stately', 'raven', 'of', 'the', 'saintly', 'days', 'of', 'yore', 'not', 'the', 'least', 'obesience', 'made', 'he', 'not', 'a', 'minute', 'stopped', 'or', 'stayed', 'he', 'but', 'with', 'mein', 'of', 'lord', 'or', 'lady', 'perched', 'above', 'my', 'chamber', 'door', 'perched', 'upon', 'a', 'bust', 'of', 'pallas', 'just', 'above', 'my', 'chamber', 'door', 'perched', 'and', 'sat', 'and', 'nothing', 'more', 'then', 'this', 'ebony', 'bird', 'beguiling', 'my', 'sad', 'fancy', 'into', 'smiling', 'by', 'the', 'grave', 'and', 'stern', 'decorum', 'of', 'the', 'countenance', 'it', 'wore', 'though', 'thy', 'crest', 'be', 'shorn', 'and', 'shaven', 'thou', 'i', 'said', 'art', 'sure', 'no', 'craven', 'ghastly', 'grim', 'and', 'ancient', 'raven', 'wandering', 'from', 'the', 'nightly', 'shore', 'tell', 'me', 'what', 'thy', 'lordly', 'name', 'is', 'on', 'the', 'nights', 'plutonean', 'shore', 'quoth', 'the', 'raven', 'nevermore', 'much', 'i', 'marvelled', 'this', 'ungainly', 'foul', 'to', 'hear', 'discource', 'so', 'plainly', 'though', 'its', 'answer', 'little', 'meaning', 'little', 'relevancy', 'bore', 'for', 'we', 'cannot', 'help', 'agreeing', 'that', 'no', 'living', 'human', 'being', 'ever', 'yet', 'was', 'blessed', 'with', 'seeing', 'bird', 'above', 'his', 'chamber', 'door', 'bird', 'or', 'beast', 'upon', 'the', 'scultured', 'bust', 'above', 'his', 'chamber', 'door', 'with', 'such', 'name', 'as', 'nevermore', 'but', 'the', 'raven', 'sitting', 'lonely', 'on', 'the', 'placid', 'bust', 'spoke', 'only', 'that', 'one', 'word', 'as', 'if', 'his', 'soul', 'in', 'that', 'one', 'word', 'he', 'did', 'out', 'outpour', 'nothing', 'further', 'then', 'he', 'uttered', 'not', 'a', 'feather', 'then', 'he', 'fluttered', 'till', 'i', 'scarcely', 'more', 'than', 'muttered', 'other', 'friends', 'have', 'flown', 'before', 'on', 'the', 'morrow', 'he', 'will', 'leave', 'me', 'as', 'my', 'hopes', 'have', 'flown', 'before', 'but', 'the', 'bird', 'said', 'nevermore', 'startled', 'at', 'the', 'stillness', 'broken', 'by', 'reply', 'so', 'aptly', 'spoken', 'doubtless', 'said', 'i', 'what', 'it', 'utters', 'is', 'its', 'only', 'stock', 'and', 'store', 'caught', 'from', 'some', 'unhappy', 'master', 'whom', 'unmerciful', 'disaster', 'followed', 'fast', 'and', 'followed', 'faster', 'till', 'his', 'song', 'that', 'burden', 'bore', 'til', 'the', 'dirges', 'of', 'his', 'hopes', 'that', 'melenchology', 'burden', 'bore', 'of', 'nevernevermore', 'but', 'the', 'raven', 'still', 'beguiling', 'my', 'sad', 'fancy', 'into', 'smiling', 'straight', 'i', 'wheeled', 'a', 'cushioned', 'seet', 'in', 'front', 'of', 'bird', 'and', 'bust', 'and', 'door', 'then', 'upon', 'the', 'velvet', 'sinking', 'i', 'betook', 'myself', 'to', 'linking', 'fancy', 'unto', 'fancy', 'thinking', 'what', 'this', 'ominous', 'bird', 'of', 'yore', 'what', 'this', 'grim', 'ungainly', 'ghastly', 'gaunt', 'and', 'ominous', 'bird', 'of', 'yore', 'meant', 'in', 'croaking', 'nevermore', 'this', 'i', 'sat', 'engaged', 'in', 'guessing', 'but', 'no', 'syllable', 'expressing', 'to', 'the', 'fowl', 'whose', 'fiery', 'eyes', 'now', 'burned', 'into', 'my', 'bosoms', 'core', 'this', 'and', 'more', 'i', 'sat', 'divining', 'with', 'my', 'head', 'at', 'rest', 'reclining', 'on', 'the', 'cushions', 'velvet', 'lining', 'that', 'the', 'lamplight', 'gloated', 'oer', 'but', 'whose', 'velvet', 'violet', 'lining', 'with', 'the', 'lamplight', 'gloating', 'oer', 'she', 'shall', 'press', 'ah', 'nevermore', 'then', 'methought', 'the', 'air', 'grew', 'denser', 'perfumed', 'from', 'an', 'unseen', 'censor', 'swung', 'by', 'seraphim', 'whose', 'footfalls', 'tinkled', 'on', 'the', 'tufted', 'floor', 'wretch', 'i', 'cried', 'thy', 'god', 'hath', 'lent', 'thee', 'by', 'these', 'angels', 'he', 'hath', 'sent', 'thee', 'respite', 'respite', 'and', 'nepenthe', 'from', 'the', 'memories', 'of', 'lenore', 'quaff', 'oh', 'quaff', 'this', 'kind', 'nepenthe', 'and', 'forget', 'this', 'lost', 'lenore', 'quoth', 'the', 'raven', 'nevermore', 'prophet', 'said', 'i', 'thing', 'of', 'evil', 'prophet', 'still', 'if', 'bird', 'or', 'devil', 'whether', 'temptor', 'sent', 'or', 'tempest', 'tossed', 'thee', 'here', 'ashore', 'desolate', 'and', 'all', 'undaunted', 'by', 'this', 'desert', 'land', 'enchanted', 'by', 'this', 'home', 'of', 'horrors', 'haunted', 'tell', 'me', 'truly', 'i', 'implore', 'is', 'there', 'is', 'there', 'balm', 'in', 'gilead', 'tell', 'me', 'tell', 'me', 'i', 'implore', 'quoth', 'the', 'raven', 'nevermore', 'prophet', 'said', 'i', 'thing', 'of', 'evil', 'prophet', 'still', 'if', 'bird', 'or', 'devil', 'get', 'thee', 'back', 'into', 'the', 'tempest', 'and', 'the', 'nights', 'plutonean', 'shore', 'tell', 'this', 'soul', 'with', 'sorrow', 'laden', 'if', 'within', 'some', 'distant', 'aidenn', 'it', 'will', 'clasp', 'a', 'saintly', 'maiden', 'whom', 'the', 'angels', 'name', 'lenore', 'clasp', 'a', 'rare', 'and', 'radiant', 'maiden', 'whom', 'the', 'angels', 'name', 'lenore', 'quoth', 'the', 'raven', 'nevermore', 'be', 'that', 'word', 'our', 'sign', 'of', 'parting', 'bird', 'or', 'fiend', 'i', 'shieked', 'upstarting', 'get', 'thee', 'back', 'into', 'the', 'tempest', 'and', 'the', 'nights', 'plutonean', 'shore', 'leave', 'no', 'black', 'plume', 'as', 'a', 'token', 'of', 'the', 'lie', 'thy', 'soul', 'has', 'spoken', 'leave', 'my', 'loneliness', 'unbroken', 'quit', 'the', 'bust', 'above', 'my', 'door', 'take', 'thy', 'beak', 'from', 'out', 'my', 'heart', 'and', 'take', 'thy', 'form', 'from', 'off', 'my', 'door', 'quoth', 'the', 'raven', 'nevermore', 'and', 'the', 'raven', 'never', 'flitting', 'still', 'is', 'sitting', 'still', 'is', 'sitting', 'on', 'the', 'pallid', 'bust', 'of', 'pallas', 'just', 'above', 'my', 'chamber', 'door', 'and', 'his', 'eyes', 'have', 'all', 'the', 'seeming', 'of', 'a', 'daemons', 'that', 'is', 'dreaming', 'and', 'the', 'lamplight', 'oer', 'him', 'streaming', 'throws', 'his', 'shadow', 'on', 'the', 'floor', 'and', 'my', 'soul', 'from', 'out', 'that', 'shadow', 'floating', 'on', 'the', 'chamber', 'floor', 'shall', 'be', 'liftednevermore']\n"
          ]
        }
      ],
      "source": [
        "import string\n",
        "\n",
        "print(string.punctuation)\n",
        "\n",
        "#Let's clean the list \n",
        "clean_words = []\n",
        "for word in words: \n",
        "    word = word.lower()\n",
        "    \n",
        "    for p in string.punctuation: \n",
        "        word = word.replace(p , \"\")\n",
        "    clean_words.append(word)\n",
        "\n",
        "\n",
        "print(clean_words)"
      ]
    },
    {
      "cell_type": "markdown",
      "metadata": {},
      "source": [
        "Back to our main question (again...)"
      ]
    },
    {
      "cell_type": "code",
      "execution_count": 66,
      "metadata": {},
      "outputs": [
        {
          "name": "stdout",
          "output_type": "stream",
          "text": [
            "5\n",
            "{'the': 59, 'raven': 11, 'edgar': 1, 'allen': 1, 'poe': 1, 'once': 1, 'upon': 5, 'a': 15, 'midnight': 1, 'dreary': 1, 'while': 2, 'i': 32, 'pondered': 1, 'weak': 1, 'and': 40, 'weary': 1, 'over': 1, 'many': 2, 'quaint': 1, 'curious': 1, 'volume': 1, 'of': 23, 'forgotten': 1, 'lore': 1, 'nodded': 1, 'nearly': 1, 'napping': 2, 'suddenly': 1, 'there': 7, 'came': 3, 'tapping': 5, 'as': 5, 'someone': 1, 'gently': 2, 'rapping': 3, 'on': 10, 'my': 25, 'chamber': 12, 'door': 14, 'tis': 3, 'some': 5, 'visitor': 3, 'muttered': 2, 'only': 4, 'this': 17, 'nothing': 7, 'more': 9, 'ah': 2, 'distinctly': 1, 'remember': 1, 'it': 5, 'was': 6, 'in': 7, 'bleak': 1, 'december': 1, 'each': 2, 'separate': 1, 'dying': 1, 'ember': 1, 'wrought': 1, 'its': 3, 'ghost': 1, 'floor': 4, 'eagerly': 1, 'wished': 1, 'morrow': 2, 'vainly': 1, 'had': 1, 'sought': 1, 'to': 6, 'borrow': 1, 'from': 8, 'books': 1, 'surcease': 1, 'sorrowsorrow': 1, 'for': 3, 'lost': 2, 'lenore': 8, 'rare': 2, 'radiant': 2, 'maiden': 3, 'whom': 4, 'angels': 4, 'named': 1, 'nameless': 1, 'here': 3, 'forever': 1, 'silken': 1, 'sad': 3, 'uncertainly': 1, 'rustling': 1, 'purple': 1, 'curtain': 1, 'thrilled': 1, 'me': 9, 'filled': 1, 'with': 8, 'fantastic': 1, 'terror': 1, 'never': 2, 'felt': 1, 'before': 5, 'so': 5, 'still': 7, 'beating': 1, 'heart': 3, 'stood': 2, 'repeating': 1, 'entreating': 2, 'entrance': 2, 'at': 6, 'late': 1, 'is': 11, 'presently': 1, 'soul': 6, 'grew': 2, 'strong': 1, 'hesitating': 1, 'then': 7, 'no': 7, 'longer': 1, 'sir': 1, 'said': 7, 'or': 8, 'madam': 1, 'truly': 2, 'your': 1, 'forgiveness': 1, 'implore': 3, 'but': 8, 'fact': 1, 'you': 3, 'faintly': 1, 'that': 11, 'scare': 1, 'sure': 2, 'heard': 2, '': 1, 'opened': 1, 'wide': 2, 'darkness': 2, 'deep': 1, 'into': 7, 'peering': 1, 'long': 1, 'wondering': 1, 'fearing': 1, 'doubting': 1, 'dreaming': 2, 'dreams': 1, 'mortal': 1, 'ever': 2, 'dared': 1, 'dream': 1, 'silence': 1, 'unbroken': 2, 'stillness': 2, 'gave': 1, 'token': 2, 'word': 5, 'spoken': 3, 'whispered': 2, 'an': 2, 'echo': 1, 'murmered': 1, 'back': 4, 'merely': 1, 'turning': 1, 'all': 3, 'within': 2, 'burning': 1, 'soon': 1, 'again': 1, 'somewhat': 1, 'louder': 1, 'than': 2, 'surely': 2, 'something': 1, 'window': 1, 'lattice': 1, 'let': 2, 'see': 1, 'what': 5, 'thereat': 1, 'mystery': 2, 'explore': 2, 'be': 4, 'minute': 2, 'wind': 1, 'open': 1, 'flung': 1, 'shutter': 1, 'when': 1, 'flirt': 1, 'flutter': 1, 'stepped': 1, 'stately': 1, 'saintly': 2, 'days': 1, 'yore': 3, 'not': 3, 'least': 1, 'obesience': 1, 'made': 1, 'he': 7, 'stopped': 1, 'stayed': 1, 'mein': 1, 'lord': 1, 'lady': 1, 'perched': 3, 'above': 6, 'bust': 6, 'pallas': 2, 'just': 2, 'sat': 3, 'ebony': 1, 'bird': 10, 'beguiling': 2, 'fancy': 4, 'smiling': 2, 'by': 6, 'grave': 1, 'stern': 1, 'decorum': 1, 'countenance': 1, 'wore': 1, 'though': 2, 'thy': 6, 'crest': 1, 'shorn': 1, 'shaven': 1, 'thou': 1, 'art': 1, 'craven': 1, 'ghastly': 2, 'grim': 2, 'ancient': 1, 'wandering': 1, 'nightly': 1, 'shore': 4, 'tell': 5, 'lordly': 1, 'name': 4, 'nights': 3, 'plutonean': 3, 'quoth': 5, 'nevermore': 9, 'much': 1, 'marvelled': 1, 'ungainly': 2, 'foul': 1, 'hear': 1, 'discource': 1, 'plainly': 1, 'answer': 1, 'little': 2, 'meaning': 1, 'relevancy': 1, 'bore': 3, 'we': 1, 'cannot': 1, 'help': 1, 'agreeing': 1, 'living': 1, 'human': 1, 'being': 1, 'yet': 1, 'blessed': 1, 'seeing': 1, 'his': 7, 'beast': 1, 'scultured': 1, 'such': 1, 'sitting': 3, 'lonely': 1, 'placid': 1, 'spoke': 1, 'one': 2, 'if': 4, 'did': 1, 'out': 3, 'outpour': 1, 'further': 1, 'uttered': 1, 'feather': 1, 'fluttered': 1, 'till': 2, 'scarcely': 1, 'other': 1, 'friends': 1, 'have': 3, 'flown': 2, 'will': 2, 'leave': 3, 'hopes': 2, 'startled': 1, 'broken': 1, 'reply': 1, 'aptly': 1, 'doubtless': 1, 'utters': 1, 'stock': 1, 'store': 1, 'caught': 1, 'unhappy': 1, 'master': 1, 'unmerciful': 1, 'disaster': 1, 'followed': 2, 'fast': 1, 'faster': 1, 'song': 1, 'burden': 2, 'til': 1, 'dirges': 1, 'melenchology': 1, 'nevernevermore': 1, 'straight': 1, 'wheeled': 1, 'cushioned': 1, 'seet': 1, 'front': 1, 'velvet': 3, 'sinking': 1, 'betook': 1, 'myself': 1, 'linking': 1, 'unto': 1, 'thinking': 1, 'ominous': 2, 'gaunt': 1, 'meant': 1, 'croaking': 1, 'engaged': 1, 'guessing': 1, 'syllable': 1, 'expressing': 1, 'fowl': 1, 'whose': 3, 'fiery': 1, 'eyes': 2, 'now': 1, 'burned': 1, 'bosoms': 1, 'core': 1, 'divining': 1, 'head': 1, 'rest': 1, 'reclining': 1, 'cushions': 1, 'lining': 2, 'lamplight': 3, 'gloated': 1, 'oer': 3, 'violet': 1, 'gloating': 1, 'she': 1, 'shall': 2, 'press': 1, 'methought': 1, 'air': 1, 'denser': 1, 'perfumed': 1, 'unseen': 1, 'censor': 1, 'swung': 1, 'seraphim': 1, 'footfalls': 1, 'tinkled': 1, 'tufted': 1, 'wretch': 1, 'cried': 1, 'god': 1, 'hath': 2, 'lent': 1, 'thee': 5, 'these': 1, 'sent': 2, 'respite': 2, 'nepenthe': 2, 'memories': 1, 'quaff': 2, 'oh': 1, 'kind': 1, 'forget': 1, 'prophet': 4, 'thing': 2, 'evil': 2, 'devil': 2, 'whether': 1, 'temptor': 1, 'tempest': 3, 'tossed': 1, 'ashore': 1, 'desolate': 1, 'undaunted': 1, 'desert': 1, 'land': 1, 'enchanted': 1, 'home': 1, 'horrors': 1, 'haunted': 1, 'balm': 1, 'gilead': 1, 'get': 2, 'sorrow': 1, 'laden': 1, 'distant': 1, 'aidenn': 1, 'clasp': 2, 'our': 1, 'sign': 1, 'parting': 1, 'fiend': 1, 'shieked': 1, 'upstarting': 1, 'black': 1, 'plume': 1, 'lie': 1, 'has': 1, 'loneliness': 1, 'quit': 1, 'take': 2, 'beak': 1, 'form': 1, 'off': 1, 'flitting': 1, 'pallid': 1, 'seeming': 1, 'daemons': 1, 'him': 1, 'streaming': 1, 'throws': 1, 'shadow': 2, 'floating': 1, 'liftednevermore': 1}\n"
          ]
        }
      ],
      "source": [
        "#Let's answer our main question \n",
        "counter = 0\n",
        "for word in clean_words: \n",
        "    if word == 'some': \n",
        "        counter += 1\n",
        "\n",
        "print(counter)\n",
        "\n",
        "#We need to create a dictionary and keep track of all the values\n",
        "word_dict = {}\n",
        "for word in clean_words: \n",
        "    # Check to see if the word is in the dictionary.  If so, add to its counter.  Otherwise, start a new entry with counter 1.\n",
        "    if word not in word_dict: \n",
        "        word_dict[word] = 0\n",
        "    word_dict[word] += 1\n",
        "\n",
        "\n",
        "print(word_dict)"
      ]
    },
    {
      "cell_type": "markdown",
      "metadata": {},
      "source": [
        "### Counting words in the list\n",
        "\n",
        "Now we should have a list of words from the poem, not including any whitespace or punctiation and all the same case.  How can we count how many times each word appears?\n",
        "\n",
        "A few options:\n",
        "\n",
        "* For each word, we can use `.count()` to see how many times it appears and just print this.  \n",
        "* We could create a list of the number of times each word occurs in the same position as the word in the list of words.  \n",
        "* We could create a variable for each word and have it store the number of times the word occurs\n",
        "* Or we can do exactly this, but the right way: with a dictionary.\n",
        "\n",
        "Let's start working with a smaller example of a string."
      ]
    },
    {
      "cell_type": "code",
      "execution_count": 57,
      "metadata": {},
      "outputs": [
        {
          "name": "stdout",
          "output_type": "stream",
          "text": [
            "['we', 'can', 'dance', 'if', 'we', 'want', 'to', 'we', 'can', 'leave', 'your', 'friends', 'behind', 'cause', 'your', 'friends', 'dont', 'dance', 'and', 'if', 'they', 'dont', 'dance', 'well', 'theyre', 'no', 'friends', 'of', 'mine']\n"
          ]
        }
      ],
      "source": [
        "import string\n",
        "\n",
        "lyrics = \"We can dance if we want to We can leave your friends behind 'Cause your friends don't dance And if they don't dance Well, they're no friends of mine\"\n",
        "for mark in string.punctuation:\n",
        "  lyrics = lyrics.replace(mark,'')\n",
        "\n",
        "word_list = lyrics.lower().split()\n",
        "print(word_list)\n"
      ]
    },
    {
      "cell_type": "markdown",
      "metadata": {},
      "source": [
        "Now we will create a dictionary and start adding words to it."
      ]
    },
    {
      "cell_type": "code",
      "execution_count": 60,
      "metadata": {},
      "outputs": [
        {
          "name": "stdout",
          "output_type": "stream",
          "text": [
            "{'we': 3, 'can': 2, 'dance': 3, 'if': 2, 'want': 1, 'to': 1, 'leave': 1, 'your': 2, 'friends': 3, 'behind': 1, 'cause': 1, 'dont': 2, 'and': 1, 'they': 1, 'well': 1, 'theyre': 1, 'no': 1, 'of': 1, 'mine': 1}\n"
          ]
        }
      ],
      "source": [
        "# start with an empty dictionary\n",
        "word_count = {}\n",
        "\n",
        "# loop over words is word_list, adding them to the dictionary.\n",
        "for word in word_list: \n",
        "    # Check to see if the word is in the dictionary.  If so, add to its counter.  Otherwise, start a new entry with counter 1.\n",
        "    if word not in word_count: \n",
        "        word_count[word] = 0\n",
        "    word_count[word] += 1\n",
        "\n",
        "print(word_count)"
      ]
    },
    {
      "cell_type": "markdown",
      "metadata": {},
      "source": [
        "#### Sorting the dictionary\n",
        "\n",
        "You cannot sort dictionaries!  But you can sort lists, and you can create a list out of a dictionary.  The tricky bit is figuring out how to sort that list based not on the words in the list, but by the value of the key that corresponds to that word in the dictionary.\n",
        "\n",
        "The idea is this: define a function that returns some value for each key of the dictionary, and sort by these returned values."
      ]
    },
    {
      "cell_type": "code",
      "execution_count": 67,
      "metadata": {},
      "outputs": [
        {
          "ename": "TypeError",
          "evalue": "'builtin_function_or_method' object is not subscriptable",
          "output_type": "error",
          "traceback": [
            "\u001b[0;31m---------------------------------------------------------------------------\u001b[0m",
            "\u001b[0;31mTypeError\u001b[0m                                 Traceback (most recent call last)",
            "\u001b[1;32m/workspaces/Fall-2023-files/ClassActivities/Week10/1-Monday.ipynb Cell 23\u001b[0m line \u001b[0;36m7\n\u001b[1;32m      <a href='vscode-notebook-cell://codespaces%2Bshiny-guacamole-r4gw4rr479vr2xgg6/workspaces/Fall-2023-files/ClassActivities/Week10/1-Monday.ipynb#X32sdnNjb2RlLXJlbW90ZQ%3D%3D?line=4'>5</a>\u001b[0m switched \u001b[39m=\u001b[39m []\n\u001b[1;32m      <a href='vscode-notebook-cell://codespaces%2Bshiny-guacamole-r4gw4rr479vr2xgg6/workspaces/Fall-2023-files/ClassActivities/Week10/1-Monday.ipynb#X32sdnNjb2RlLXJlbW90ZQ%3D%3D?line=5'>6</a>\u001b[0m \u001b[39mfor\u001b[39;00m a, b \u001b[39min\u001b[39;00m results: \n\u001b[0;32m----> <a href='vscode-notebook-cell://codespaces%2Bshiny-guacamole-r4gw4rr479vr2xgg6/workspaces/Fall-2023-files/ClassActivities/Week10/1-Monday.ipynb#X32sdnNjb2RlLXJlbW90ZQ%3D%3D?line=6'>7</a>\u001b[0m     switched\u001b[39m.\u001b[39;49mappend[b, a]\n\u001b[1;32m      <a href='vscode-notebook-cell://codespaces%2Bshiny-guacamole-r4gw4rr479vr2xgg6/workspaces/Fall-2023-files/ClassActivities/Week10/1-Monday.ipynb#X32sdnNjb2RlLXJlbW90ZQ%3D%3D?line=7'>8</a>\u001b[0m switched\u001b[39m.\u001b[39msort()\n\u001b[1;32m     <a href='vscode-notebook-cell://codespaces%2Bshiny-guacamole-r4gw4rr479vr2xgg6/workspaces/Fall-2023-files/ClassActivities/Week10/1-Monday.ipynb#X32sdnNjb2RlLXJlbW90ZQ%3D%3D?line=9'>10</a>\u001b[0m results\u001b[39m.\u001b[39msort()\n",
            "\u001b[0;31mTypeError\u001b[0m: 'builtin_function_or_method' object is not subscriptable"
          ]
        }
      ],
      "source": [
        "#results = list(word_count.items())\n",
        "#print(word_count)\n",
        "results = list(word_dict.items())\n",
        "\n",
        "switched = []\n",
        "for a, b in results: \n",
        "    switched.append[b, a]\n",
        "switched.sort()\n",
        "\n",
        "results.sort()\n",
        "print(results)\n",
        "\n",
        "print(switched)"
      ]
    }
  ],
  "metadata": {
    "colab": {
      "include_colab_link": true,
      "provenance": []
    },
    "kernelspec": {
      "display_name": "Python 3",
      "name": "python3"
    },
    "language_info": {
      "codemirror_mode": {
        "name": "ipython",
        "version": 3
      },
      "file_extension": ".py",
      "mimetype": "text/x-python",
      "name": "python",
      "nbconvert_exporter": "python",
      "pygments_lexer": "ipython3",
      "version": "3.10.8"
    }
  },
  "nbformat": 4,
  "nbformat_minor": 0
}
