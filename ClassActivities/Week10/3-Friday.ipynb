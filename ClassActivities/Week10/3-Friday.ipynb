{
  "cells": [
    {
      "cell_type": "markdown",
      "metadata": {},
      "source": [
        "# Friday, October 27\n",
        "\n",
        "## Announcements and Reminders\n",
        "\n",
        "- Exercises for Chapter 10: due tonight\n",
        "- Read Chapter 11 (due Wednesday)\n"
      ]
    },
    {
      "cell_type": "markdown",
      "metadata": {},
      "source": [
        "## Activity: Exploring a Movie Database\n",
        "\n",
        "Last time we saw how to import a `.csv` file and store it as a *list of lists*.  Then we started converting that list of lists into a list of dictionaries.\n",
        "\n",
        "Here is a review of what we did last time:"
      ]
    },
    {
      "cell_type": "code",
      "execution_count": 2,
      "metadata": {},
      "outputs": [
        {
          "name": "stdout",
          "output_type": "stream",
          "text": [
            "headers is ['Title', 'Year', 'Rated', 'Released', 'Runtime', 'Genre', 'Director', 'Writer', 'Actors', 'Plot', 'Language', 'Country', 'Awards', 'Poster', 'Ratings.Source', 'Ratings.Value', 'Metascore', 'imdbRating', 'imdbVotes', 'imdbID', 'Type', 'DVD', 'BoxOffice', 'Production', 'Website', 'Response', 'tomatoURL']\n",
            "key is Title\n",
            "moviedata is ['Superbabies: Baby Geniuses 2', '2004', 'PG', '27 Aug 2004', '88 min', 'Comedy, Family, Sci-Fi', 'Bob Clark', 'Steven Paul (story), Gregory Poppen (screenplay)', 'Jon Voight, Scott Baio, Vanessa Angel, Skyler Shaye', \"A group of smart-talking toddlers find themselves at the center of a media mogul's experiment to crack the code to baby talk. The toddlers must race against time for the sake of babies everywhere.\", 'English', 'Germany, UK, USA', '13 nominations.', 'https://images-na.ssl-images-amazon.com/images/M/MV5BNjY4NjM3MjQ2OF5BMl5BanBnXkFtZTcwOTc3NzYyMQ@@._V1_SX300.jpg', 'Internet Movie Database', '2.0/10', '9', '2.0', '26,376', 'tt0270846', 'movie', '04 Jan 2005', '$9,016,422', 'Sony', 'http://www.sonypictures.com/movies/superbabiesbabygeniuses2/index.html', 'True', 'http://www.rottentomatoes.com/m/super_babies_baby_geniuses_2/']\n",
            "value is Superbabies: Baby Geniuses 2\n",
            "headers is ['Title', 'Year', 'Rated', 'Released', 'Runtime', 'Genre', 'Director', 'Writer', 'Actors', 'Plot', 'Language', 'Country', 'Awards', 'Poster', 'Ratings.Source', 'Ratings.Value', 'Metascore', 'imdbRating', 'imdbVotes', 'imdbID', 'Type', 'DVD', 'BoxOffice', 'Production', 'Website', 'Response', 'tomatoURL']\n",
            "key is Year\n",
            "moviedata is ['Superbabies: Baby Geniuses 2', '2004', 'PG', '27 Aug 2004', '88 min', 'Comedy, Family, Sci-Fi', 'Bob Clark', 'Steven Paul (story), Gregory Poppen (screenplay)', 'Jon Voight, Scott Baio, Vanessa Angel, Skyler Shaye', \"A group of smart-talking toddlers find themselves at the center of a media mogul's experiment to crack the code to baby talk. The toddlers must race against time for the sake of babies everywhere.\", 'English', 'Germany, UK, USA', '13 nominations.', 'https://images-na.ssl-images-amazon.com/images/M/MV5BNjY4NjM3MjQ2OF5BMl5BanBnXkFtZTcwOTc3NzYyMQ@@._V1_SX300.jpg', 'Internet Movie Database', '2.0/10', '9', '2.0', '26,376', 'tt0270846', 'movie', '04 Jan 2005', '$9,016,422', 'Sony', 'http://www.sonypictures.com/movies/superbabiesbabygeniuses2/index.html', 'True', 'http://www.rottentomatoes.com/m/super_babies_baby_geniuses_2/']\n",
            "value is 2004\n",
            "headers is ['Title', 'Year', 'Rated', 'Released', 'Runtime', 'Genre', 'Director', 'Writer', 'Actors', 'Plot', 'Language', 'Country', 'Awards', 'Poster', 'Ratings.Source', 'Ratings.Value', 'Metascore', 'imdbRating', 'imdbVotes', 'imdbID', 'Type', 'DVD', 'BoxOffice', 'Production', 'Website', 'Response', 'tomatoURL']\n",
            "key is Rated\n",
            "moviedata is ['Superbabies: Baby Geniuses 2', '2004', 'PG', '27 Aug 2004', '88 min', 'Comedy, Family, Sci-Fi', 'Bob Clark', 'Steven Paul (story), Gregory Poppen (screenplay)', 'Jon Voight, Scott Baio, Vanessa Angel, Skyler Shaye', \"A group of smart-talking toddlers find themselves at the center of a media mogul's experiment to crack the code to baby talk. The toddlers must race against time for the sake of babies everywhere.\", 'English', 'Germany, UK, USA', '13 nominations.', 'https://images-na.ssl-images-amazon.com/images/M/MV5BNjY4NjM3MjQ2OF5BMl5BanBnXkFtZTcwOTc3NzYyMQ@@._V1_SX300.jpg', 'Internet Movie Database', '2.0/10', '9', '2.0', '26,376', 'tt0270846', 'movie', '04 Jan 2005', '$9,016,422', 'Sony', 'http://www.sonypictures.com/movies/superbabiesbabygeniuses2/index.html', 'True', 'http://www.rottentomatoes.com/m/super_babies_baby_geniuses_2/']\n",
            "value is PG\n",
            "headers is ['Title', 'Year', 'Rated', 'Released', 'Runtime', 'Genre', 'Director', 'Writer', 'Actors', 'Plot', 'Language', 'Country', 'Awards', 'Poster', 'Ratings.Source', 'Ratings.Value', 'Metascore', 'imdbRating', 'imdbVotes', 'imdbID', 'Type', 'DVD', 'BoxOffice', 'Production', 'Website', 'Response', 'tomatoURL']\n",
            "key is Released\n",
            "moviedata is ['Superbabies: Baby Geniuses 2', '2004', 'PG', '27 Aug 2004', '88 min', 'Comedy, Family, Sci-Fi', 'Bob Clark', 'Steven Paul (story), Gregory Poppen (screenplay)', 'Jon Voight, Scott Baio, Vanessa Angel, Skyler Shaye', \"A group of smart-talking toddlers find themselves at the center of a media mogul's experiment to crack the code to baby talk. The toddlers must race against time for the sake of babies everywhere.\", 'English', 'Germany, UK, USA', '13 nominations.', 'https://images-na.ssl-images-amazon.com/images/M/MV5BNjY4NjM3MjQ2OF5BMl5BanBnXkFtZTcwOTc3NzYyMQ@@._V1_SX300.jpg', 'Internet Movie Database', '2.0/10', '9', '2.0', '26,376', 'tt0270846', 'movie', '04 Jan 2005', '$9,016,422', 'Sony', 'http://www.sonypictures.com/movies/superbabiesbabygeniuses2/index.html', 'True', 'http://www.rottentomatoes.com/m/super_babies_baby_geniuses_2/']\n",
            "value is 27 Aug 2004\n",
            "headers is ['Title', 'Year', 'Rated', 'Released', 'Runtime', 'Genre', 'Director', 'Writer', 'Actors', 'Plot', 'Language', 'Country', 'Awards', 'Poster', 'Ratings.Source', 'Ratings.Value', 'Metascore', 'imdbRating', 'imdbVotes', 'imdbID', 'Type', 'DVD', 'BoxOffice', 'Production', 'Website', 'Response', 'tomatoURL']\n",
            "key is Runtime\n",
            "moviedata is ['Superbabies: Baby Geniuses 2', '2004', 'PG', '27 Aug 2004', '88 min', 'Comedy, Family, Sci-Fi', 'Bob Clark', 'Steven Paul (story), Gregory Poppen (screenplay)', 'Jon Voight, Scott Baio, Vanessa Angel, Skyler Shaye', \"A group of smart-talking toddlers find themselves at the center of a media mogul's experiment to crack the code to baby talk. The toddlers must race against time for the sake of babies everywhere.\", 'English', 'Germany, UK, USA', '13 nominations.', 'https://images-na.ssl-images-amazon.com/images/M/MV5BNjY4NjM3MjQ2OF5BMl5BanBnXkFtZTcwOTc3NzYyMQ@@._V1_SX300.jpg', 'Internet Movie Database', '2.0/10', '9', '2.0', '26,376', 'tt0270846', 'movie', '04 Jan 2005', '$9,016,422', 'Sony', 'http://www.sonypictures.com/movies/superbabiesbabygeniuses2/index.html', 'True', 'http://www.rottentomatoes.com/m/super_babies_baby_geniuses_2/']\n",
            "value is 88 min\n",
            "headers is ['Title', 'Year', 'Rated', 'Released', 'Runtime', 'Genre', 'Director', 'Writer', 'Actors', 'Plot', 'Language', 'Country', 'Awards', 'Poster', 'Ratings.Source', 'Ratings.Value', 'Metascore', 'imdbRating', 'imdbVotes', 'imdbID', 'Type', 'DVD', 'BoxOffice', 'Production', 'Website', 'Response', 'tomatoURL']\n",
            "key is Genre\n",
            "moviedata is ['Superbabies: Baby Geniuses 2', '2004', 'PG', '27 Aug 2004', '88 min', 'Comedy, Family, Sci-Fi', 'Bob Clark', 'Steven Paul (story), Gregory Poppen (screenplay)', 'Jon Voight, Scott Baio, Vanessa Angel, Skyler Shaye', \"A group of smart-talking toddlers find themselves at the center of a media mogul's experiment to crack the code to baby talk. The toddlers must race against time for the sake of babies everywhere.\", 'English', 'Germany, UK, USA', '13 nominations.', 'https://images-na.ssl-images-amazon.com/images/M/MV5BNjY4NjM3MjQ2OF5BMl5BanBnXkFtZTcwOTc3NzYyMQ@@._V1_SX300.jpg', 'Internet Movie Database', '2.0/10', '9', '2.0', '26,376', 'tt0270846', 'movie', '04 Jan 2005', '$9,016,422', 'Sony', 'http://www.sonypictures.com/movies/superbabiesbabygeniuses2/index.html', 'True', 'http://www.rottentomatoes.com/m/super_babies_baby_geniuses_2/']\n",
            "value is Comedy, Family, Sci-Fi\n",
            "headers is ['Title', 'Year', 'Rated', 'Released', 'Runtime', 'Genre', 'Director', 'Writer', 'Actors', 'Plot', 'Language', 'Country', 'Awards', 'Poster', 'Ratings.Source', 'Ratings.Value', 'Metascore', 'imdbRating', 'imdbVotes', 'imdbID', 'Type', 'DVD', 'BoxOffice', 'Production', 'Website', 'Response', 'tomatoURL']\n",
            "key is Director\n",
            "moviedata is ['Superbabies: Baby Geniuses 2', '2004', 'PG', '27 Aug 2004', '88 min', 'Comedy, Family, Sci-Fi', 'Bob Clark', 'Steven Paul (story), Gregory Poppen (screenplay)', 'Jon Voight, Scott Baio, Vanessa Angel, Skyler Shaye', \"A group of smart-talking toddlers find themselves at the center of a media mogul's experiment to crack the code to baby talk. The toddlers must race against time for the sake of babies everywhere.\", 'English', 'Germany, UK, USA', '13 nominations.', 'https://images-na.ssl-images-amazon.com/images/M/MV5BNjY4NjM3MjQ2OF5BMl5BanBnXkFtZTcwOTc3NzYyMQ@@._V1_SX300.jpg', 'Internet Movie Database', '2.0/10', '9', '2.0', '26,376', 'tt0270846', 'movie', '04 Jan 2005', '$9,016,422', 'Sony', 'http://www.sonypictures.com/movies/superbabiesbabygeniuses2/index.html', 'True', 'http://www.rottentomatoes.com/m/super_babies_baby_geniuses_2/']\n",
            "value is Bob Clark\n",
            "headers is ['Title', 'Year', 'Rated', 'Released', 'Runtime', 'Genre', 'Director', 'Writer', 'Actors', 'Plot', 'Language', 'Country', 'Awards', 'Poster', 'Ratings.Source', 'Ratings.Value', 'Metascore', 'imdbRating', 'imdbVotes', 'imdbID', 'Type', 'DVD', 'BoxOffice', 'Production', 'Website', 'Response', 'tomatoURL']\n",
            "key is Writer\n",
            "moviedata is ['Superbabies: Baby Geniuses 2', '2004', 'PG', '27 Aug 2004', '88 min', 'Comedy, Family, Sci-Fi', 'Bob Clark', 'Steven Paul (story), Gregory Poppen (screenplay)', 'Jon Voight, Scott Baio, Vanessa Angel, Skyler Shaye', \"A group of smart-talking toddlers find themselves at the center of a media mogul's experiment to crack the code to baby talk. The toddlers must race against time for the sake of babies everywhere.\", 'English', 'Germany, UK, USA', '13 nominations.', 'https://images-na.ssl-images-amazon.com/images/M/MV5BNjY4NjM3MjQ2OF5BMl5BanBnXkFtZTcwOTc3NzYyMQ@@._V1_SX300.jpg', 'Internet Movie Database', '2.0/10', '9', '2.0', '26,376', 'tt0270846', 'movie', '04 Jan 2005', '$9,016,422', 'Sony', 'http://www.sonypictures.com/movies/superbabiesbabygeniuses2/index.html', 'True', 'http://www.rottentomatoes.com/m/super_babies_baby_geniuses_2/']\n",
            "value is Steven Paul (story), Gregory Poppen (screenplay)\n",
            "headers is ['Title', 'Year', 'Rated', 'Released', 'Runtime', 'Genre', 'Director', 'Writer', 'Actors', 'Plot', 'Language', 'Country', 'Awards', 'Poster', 'Ratings.Source', 'Ratings.Value', 'Metascore', 'imdbRating', 'imdbVotes', 'imdbID', 'Type', 'DVD', 'BoxOffice', 'Production', 'Website', 'Response', 'tomatoURL']\n",
            "key is Actors\n",
            "moviedata is ['Superbabies: Baby Geniuses 2', '2004', 'PG', '27 Aug 2004', '88 min', 'Comedy, Family, Sci-Fi', 'Bob Clark', 'Steven Paul (story), Gregory Poppen (screenplay)', 'Jon Voight, Scott Baio, Vanessa Angel, Skyler Shaye', \"A group of smart-talking toddlers find themselves at the center of a media mogul's experiment to crack the code to baby talk. The toddlers must race against time for the sake of babies everywhere.\", 'English', 'Germany, UK, USA', '13 nominations.', 'https://images-na.ssl-images-amazon.com/images/M/MV5BNjY4NjM3MjQ2OF5BMl5BanBnXkFtZTcwOTc3NzYyMQ@@._V1_SX300.jpg', 'Internet Movie Database', '2.0/10', '9', '2.0', '26,376', 'tt0270846', 'movie', '04 Jan 2005', '$9,016,422', 'Sony', 'http://www.sonypictures.com/movies/superbabiesbabygeniuses2/index.html', 'True', 'http://www.rottentomatoes.com/m/super_babies_baby_geniuses_2/']\n",
            "value is Jon Voight, Scott Baio, Vanessa Angel, Skyler Shaye\n",
            "headers is ['Title', 'Year', 'Rated', 'Released', 'Runtime', 'Genre', 'Director', 'Writer', 'Actors', 'Plot', 'Language', 'Country', 'Awards', 'Poster', 'Ratings.Source', 'Ratings.Value', 'Metascore', 'imdbRating', 'imdbVotes', 'imdbID', 'Type', 'DVD', 'BoxOffice', 'Production', 'Website', 'Response', 'tomatoURL']\n",
            "key is Plot\n",
            "moviedata is ['Superbabies: Baby Geniuses 2', '2004', 'PG', '27 Aug 2004', '88 min', 'Comedy, Family, Sci-Fi', 'Bob Clark', 'Steven Paul (story), Gregory Poppen (screenplay)', 'Jon Voight, Scott Baio, Vanessa Angel, Skyler Shaye', \"A group of smart-talking toddlers find themselves at the center of a media mogul's experiment to crack the code to baby talk. The toddlers must race against time for the sake of babies everywhere.\", 'English', 'Germany, UK, USA', '13 nominations.', 'https://images-na.ssl-images-amazon.com/images/M/MV5BNjY4NjM3MjQ2OF5BMl5BanBnXkFtZTcwOTc3NzYyMQ@@._V1_SX300.jpg', 'Internet Movie Database', '2.0/10', '9', '2.0', '26,376', 'tt0270846', 'movie', '04 Jan 2005', '$9,016,422', 'Sony', 'http://www.sonypictures.com/movies/superbabiesbabygeniuses2/index.html', 'True', 'http://www.rottentomatoes.com/m/super_babies_baby_geniuses_2/']\n",
            "value is A group of smart-talking toddlers find themselves at the center of a media mogul's experiment to crack the code to baby talk. The toddlers must race against time for the sake of babies everywhere.\n",
            "headers is ['Title', 'Year', 'Rated', 'Released', 'Runtime', 'Genre', 'Director', 'Writer', 'Actors', 'Plot', 'Language', 'Country', 'Awards', 'Poster', 'Ratings.Source', 'Ratings.Value', 'Metascore', 'imdbRating', 'imdbVotes', 'imdbID', 'Type', 'DVD', 'BoxOffice', 'Production', 'Website', 'Response', 'tomatoURL']\n",
            "key is Language\n",
            "moviedata is ['Superbabies: Baby Geniuses 2', '2004', 'PG', '27 Aug 2004', '88 min', 'Comedy, Family, Sci-Fi', 'Bob Clark', 'Steven Paul (story), Gregory Poppen (screenplay)', 'Jon Voight, Scott Baio, Vanessa Angel, Skyler Shaye', \"A group of smart-talking toddlers find themselves at the center of a media mogul's experiment to crack the code to baby talk. The toddlers must race against time for the sake of babies everywhere.\", 'English', 'Germany, UK, USA', '13 nominations.', 'https://images-na.ssl-images-amazon.com/images/M/MV5BNjY4NjM3MjQ2OF5BMl5BanBnXkFtZTcwOTc3NzYyMQ@@._V1_SX300.jpg', 'Internet Movie Database', '2.0/10', '9', '2.0', '26,376', 'tt0270846', 'movie', '04 Jan 2005', '$9,016,422', 'Sony', 'http://www.sonypictures.com/movies/superbabiesbabygeniuses2/index.html', 'True', 'http://www.rottentomatoes.com/m/super_babies_baby_geniuses_2/']\n",
            "value is English\n",
            "headers is ['Title', 'Year', 'Rated', 'Released', 'Runtime', 'Genre', 'Director', 'Writer', 'Actors', 'Plot', 'Language', 'Country', 'Awards', 'Poster', 'Ratings.Source', 'Ratings.Value', 'Metascore', 'imdbRating', 'imdbVotes', 'imdbID', 'Type', 'DVD', 'BoxOffice', 'Production', 'Website', 'Response', 'tomatoURL']\n",
            "key is Country\n",
            "moviedata is ['Superbabies: Baby Geniuses 2', '2004', 'PG', '27 Aug 2004', '88 min', 'Comedy, Family, Sci-Fi', 'Bob Clark', 'Steven Paul (story), Gregory Poppen (screenplay)', 'Jon Voight, Scott Baio, Vanessa Angel, Skyler Shaye', \"A group of smart-talking toddlers find themselves at the center of a media mogul's experiment to crack the code to baby talk. The toddlers must race against time for the sake of babies everywhere.\", 'English', 'Germany, UK, USA', '13 nominations.', 'https://images-na.ssl-images-amazon.com/images/M/MV5BNjY4NjM3MjQ2OF5BMl5BanBnXkFtZTcwOTc3NzYyMQ@@._V1_SX300.jpg', 'Internet Movie Database', '2.0/10', '9', '2.0', '26,376', 'tt0270846', 'movie', '04 Jan 2005', '$9,016,422', 'Sony', 'http://www.sonypictures.com/movies/superbabiesbabygeniuses2/index.html', 'True', 'http://www.rottentomatoes.com/m/super_babies_baby_geniuses_2/']\n",
            "value is Germany, UK, USA\n",
            "headers is ['Title', 'Year', 'Rated', 'Released', 'Runtime', 'Genre', 'Director', 'Writer', 'Actors', 'Plot', 'Language', 'Country', 'Awards', 'Poster', 'Ratings.Source', 'Ratings.Value', 'Metascore', 'imdbRating', 'imdbVotes', 'imdbID', 'Type', 'DVD', 'BoxOffice', 'Production', 'Website', 'Response', 'tomatoURL']\n",
            "key is Awards\n",
            "moviedata is ['Superbabies: Baby Geniuses 2', '2004', 'PG', '27 Aug 2004', '88 min', 'Comedy, Family, Sci-Fi', 'Bob Clark', 'Steven Paul (story), Gregory Poppen (screenplay)', 'Jon Voight, Scott Baio, Vanessa Angel, Skyler Shaye', \"A group of smart-talking toddlers find themselves at the center of a media mogul's experiment to crack the code to baby talk. The toddlers must race against time for the sake of babies everywhere.\", 'English', 'Germany, UK, USA', '13 nominations.', 'https://images-na.ssl-images-amazon.com/images/M/MV5BNjY4NjM3MjQ2OF5BMl5BanBnXkFtZTcwOTc3NzYyMQ@@._V1_SX300.jpg', 'Internet Movie Database', '2.0/10', '9', '2.0', '26,376', 'tt0270846', 'movie', '04 Jan 2005', '$9,016,422', 'Sony', 'http://www.sonypictures.com/movies/superbabiesbabygeniuses2/index.html', 'True', 'http://www.rottentomatoes.com/m/super_babies_baby_geniuses_2/']\n",
            "value is 13 nominations.\n",
            "headers is ['Title', 'Year', 'Rated', 'Released', 'Runtime', 'Genre', 'Director', 'Writer', 'Actors', 'Plot', 'Language', 'Country', 'Awards', 'Poster', 'Ratings.Source', 'Ratings.Value', 'Metascore', 'imdbRating', 'imdbVotes', 'imdbID', 'Type', 'DVD', 'BoxOffice', 'Production', 'Website', 'Response', 'tomatoURL']\n",
            "key is Poster\n",
            "moviedata is ['Superbabies: Baby Geniuses 2', '2004', 'PG', '27 Aug 2004', '88 min', 'Comedy, Family, Sci-Fi', 'Bob Clark', 'Steven Paul (story), Gregory Poppen (screenplay)', 'Jon Voight, Scott Baio, Vanessa Angel, Skyler Shaye', \"A group of smart-talking toddlers find themselves at the center of a media mogul's experiment to crack the code to baby talk. The toddlers must race against time for the sake of babies everywhere.\", 'English', 'Germany, UK, USA', '13 nominations.', 'https://images-na.ssl-images-amazon.com/images/M/MV5BNjY4NjM3MjQ2OF5BMl5BanBnXkFtZTcwOTc3NzYyMQ@@._V1_SX300.jpg', 'Internet Movie Database', '2.0/10', '9', '2.0', '26,376', 'tt0270846', 'movie', '04 Jan 2005', '$9,016,422', 'Sony', 'http://www.sonypictures.com/movies/superbabiesbabygeniuses2/index.html', 'True', 'http://www.rottentomatoes.com/m/super_babies_baby_geniuses_2/']\n",
            "value is https://images-na.ssl-images-amazon.com/images/M/MV5BNjY4NjM3MjQ2OF5BMl5BanBnXkFtZTcwOTc3NzYyMQ@@._V1_SX300.jpg\n",
            "headers is ['Title', 'Year', 'Rated', 'Released', 'Runtime', 'Genre', 'Director', 'Writer', 'Actors', 'Plot', 'Language', 'Country', 'Awards', 'Poster', 'Ratings.Source', 'Ratings.Value', 'Metascore', 'imdbRating', 'imdbVotes', 'imdbID', 'Type', 'DVD', 'BoxOffice', 'Production', 'Website', 'Response', 'tomatoURL']\n",
            "key is Ratings.Source\n",
            "moviedata is ['Superbabies: Baby Geniuses 2', '2004', 'PG', '27 Aug 2004', '88 min', 'Comedy, Family, Sci-Fi', 'Bob Clark', 'Steven Paul (story), Gregory Poppen (screenplay)', 'Jon Voight, Scott Baio, Vanessa Angel, Skyler Shaye', \"A group of smart-talking toddlers find themselves at the center of a media mogul's experiment to crack the code to baby talk. The toddlers must race against time for the sake of babies everywhere.\", 'English', 'Germany, UK, USA', '13 nominations.', 'https://images-na.ssl-images-amazon.com/images/M/MV5BNjY4NjM3MjQ2OF5BMl5BanBnXkFtZTcwOTc3NzYyMQ@@._V1_SX300.jpg', 'Internet Movie Database', '2.0/10', '9', '2.0', '26,376', 'tt0270846', 'movie', '04 Jan 2005', '$9,016,422', 'Sony', 'http://www.sonypictures.com/movies/superbabiesbabygeniuses2/index.html', 'True', 'http://www.rottentomatoes.com/m/super_babies_baby_geniuses_2/']\n",
            "value is Internet Movie Database\n",
            "headers is ['Title', 'Year', 'Rated', 'Released', 'Runtime', 'Genre', 'Director', 'Writer', 'Actors', 'Plot', 'Language', 'Country', 'Awards', 'Poster', 'Ratings.Source', 'Ratings.Value', 'Metascore', 'imdbRating', 'imdbVotes', 'imdbID', 'Type', 'DVD', 'BoxOffice', 'Production', 'Website', 'Response', 'tomatoURL']\n",
            "key is Ratings.Value\n",
            "moviedata is ['Superbabies: Baby Geniuses 2', '2004', 'PG', '27 Aug 2004', '88 min', 'Comedy, Family, Sci-Fi', 'Bob Clark', 'Steven Paul (story), Gregory Poppen (screenplay)', 'Jon Voight, Scott Baio, Vanessa Angel, Skyler Shaye', \"A group of smart-talking toddlers find themselves at the center of a media mogul's experiment to crack the code to baby talk. The toddlers must race against time for the sake of babies everywhere.\", 'English', 'Germany, UK, USA', '13 nominations.', 'https://images-na.ssl-images-amazon.com/images/M/MV5BNjY4NjM3MjQ2OF5BMl5BanBnXkFtZTcwOTc3NzYyMQ@@._V1_SX300.jpg', 'Internet Movie Database', '2.0/10', '9', '2.0', '26,376', 'tt0270846', 'movie', '04 Jan 2005', '$9,016,422', 'Sony', 'http://www.sonypictures.com/movies/superbabiesbabygeniuses2/index.html', 'True', 'http://www.rottentomatoes.com/m/super_babies_baby_geniuses_2/']\n",
            "value is 2.0/10\n",
            "headers is ['Title', 'Year', 'Rated', 'Released', 'Runtime', 'Genre', 'Director', 'Writer', 'Actors', 'Plot', 'Language', 'Country', 'Awards', 'Poster', 'Ratings.Source', 'Ratings.Value', 'Metascore', 'imdbRating', 'imdbVotes', 'imdbID', 'Type', 'DVD', 'BoxOffice', 'Production', 'Website', 'Response', 'tomatoURL']\n",
            "key is Metascore\n",
            "moviedata is ['Superbabies: Baby Geniuses 2', '2004', 'PG', '27 Aug 2004', '88 min', 'Comedy, Family, Sci-Fi', 'Bob Clark', 'Steven Paul (story), Gregory Poppen (screenplay)', 'Jon Voight, Scott Baio, Vanessa Angel, Skyler Shaye', \"A group of smart-talking toddlers find themselves at the center of a media mogul's experiment to crack the code to baby talk. The toddlers must race against time for the sake of babies everywhere.\", 'English', 'Germany, UK, USA', '13 nominations.', 'https://images-na.ssl-images-amazon.com/images/M/MV5BNjY4NjM3MjQ2OF5BMl5BanBnXkFtZTcwOTc3NzYyMQ@@._V1_SX300.jpg', 'Internet Movie Database', '2.0/10', '9', '2.0', '26,376', 'tt0270846', 'movie', '04 Jan 2005', '$9,016,422', 'Sony', 'http://www.sonypictures.com/movies/superbabiesbabygeniuses2/index.html', 'True', 'http://www.rottentomatoes.com/m/super_babies_baby_geniuses_2/']\n",
            "value is 9\n",
            "headers is ['Title', 'Year', 'Rated', 'Released', 'Runtime', 'Genre', 'Director', 'Writer', 'Actors', 'Plot', 'Language', 'Country', 'Awards', 'Poster', 'Ratings.Source', 'Ratings.Value', 'Metascore', 'imdbRating', 'imdbVotes', 'imdbID', 'Type', 'DVD', 'BoxOffice', 'Production', 'Website', 'Response', 'tomatoURL']\n",
            "key is imdbRating\n",
            "moviedata is ['Superbabies: Baby Geniuses 2', '2004', 'PG', '27 Aug 2004', '88 min', 'Comedy, Family, Sci-Fi', 'Bob Clark', 'Steven Paul (story), Gregory Poppen (screenplay)', 'Jon Voight, Scott Baio, Vanessa Angel, Skyler Shaye', \"A group of smart-talking toddlers find themselves at the center of a media mogul's experiment to crack the code to baby talk. The toddlers must race against time for the sake of babies everywhere.\", 'English', 'Germany, UK, USA', '13 nominations.', 'https://images-na.ssl-images-amazon.com/images/M/MV5BNjY4NjM3MjQ2OF5BMl5BanBnXkFtZTcwOTc3NzYyMQ@@._V1_SX300.jpg', 'Internet Movie Database', '2.0/10', '9', '2.0', '26,376', 'tt0270846', 'movie', '04 Jan 2005', '$9,016,422', 'Sony', 'http://www.sonypictures.com/movies/superbabiesbabygeniuses2/index.html', 'True', 'http://www.rottentomatoes.com/m/super_babies_baby_geniuses_2/']\n",
            "value is 2.0\n",
            "headers is ['Title', 'Year', 'Rated', 'Released', 'Runtime', 'Genre', 'Director', 'Writer', 'Actors', 'Plot', 'Language', 'Country', 'Awards', 'Poster', 'Ratings.Source', 'Ratings.Value', 'Metascore', 'imdbRating', 'imdbVotes', 'imdbID', 'Type', 'DVD', 'BoxOffice', 'Production', 'Website', 'Response', 'tomatoURL']\n",
            "key is imdbVotes\n",
            "moviedata is ['Superbabies: Baby Geniuses 2', '2004', 'PG', '27 Aug 2004', '88 min', 'Comedy, Family, Sci-Fi', 'Bob Clark', 'Steven Paul (story), Gregory Poppen (screenplay)', 'Jon Voight, Scott Baio, Vanessa Angel, Skyler Shaye', \"A group of smart-talking toddlers find themselves at the center of a media mogul's experiment to crack the code to baby talk. The toddlers must race against time for the sake of babies everywhere.\", 'English', 'Germany, UK, USA', '13 nominations.', 'https://images-na.ssl-images-amazon.com/images/M/MV5BNjY4NjM3MjQ2OF5BMl5BanBnXkFtZTcwOTc3NzYyMQ@@._V1_SX300.jpg', 'Internet Movie Database', '2.0/10', '9', '2.0', '26,376', 'tt0270846', 'movie', '04 Jan 2005', '$9,016,422', 'Sony', 'http://www.sonypictures.com/movies/superbabiesbabygeniuses2/index.html', 'True', 'http://www.rottentomatoes.com/m/super_babies_baby_geniuses_2/']\n",
            "value is 26,376\n",
            "headers is ['Title', 'Year', 'Rated', 'Released', 'Runtime', 'Genre', 'Director', 'Writer', 'Actors', 'Plot', 'Language', 'Country', 'Awards', 'Poster', 'Ratings.Source', 'Ratings.Value', 'Metascore', 'imdbRating', 'imdbVotes', 'imdbID', 'Type', 'DVD', 'BoxOffice', 'Production', 'Website', 'Response', 'tomatoURL']\n",
            "key is imdbID\n",
            "moviedata is ['Superbabies: Baby Geniuses 2', '2004', 'PG', '27 Aug 2004', '88 min', 'Comedy, Family, Sci-Fi', 'Bob Clark', 'Steven Paul (story), Gregory Poppen (screenplay)', 'Jon Voight, Scott Baio, Vanessa Angel, Skyler Shaye', \"A group of smart-talking toddlers find themselves at the center of a media mogul's experiment to crack the code to baby talk. The toddlers must race against time for the sake of babies everywhere.\", 'English', 'Germany, UK, USA', '13 nominations.', 'https://images-na.ssl-images-amazon.com/images/M/MV5BNjY4NjM3MjQ2OF5BMl5BanBnXkFtZTcwOTc3NzYyMQ@@._V1_SX300.jpg', 'Internet Movie Database', '2.0/10', '9', '2.0', '26,376', 'tt0270846', 'movie', '04 Jan 2005', '$9,016,422', 'Sony', 'http://www.sonypictures.com/movies/superbabiesbabygeniuses2/index.html', 'True', 'http://www.rottentomatoes.com/m/super_babies_baby_geniuses_2/']\n",
            "value is tt0270846\n",
            "headers is ['Title', 'Year', 'Rated', 'Released', 'Runtime', 'Genre', 'Director', 'Writer', 'Actors', 'Plot', 'Language', 'Country', 'Awards', 'Poster', 'Ratings.Source', 'Ratings.Value', 'Metascore', 'imdbRating', 'imdbVotes', 'imdbID', 'Type', 'DVD', 'BoxOffice', 'Production', 'Website', 'Response', 'tomatoURL']\n",
            "key is Type\n",
            "moviedata is ['Superbabies: Baby Geniuses 2', '2004', 'PG', '27 Aug 2004', '88 min', 'Comedy, Family, Sci-Fi', 'Bob Clark', 'Steven Paul (story), Gregory Poppen (screenplay)', 'Jon Voight, Scott Baio, Vanessa Angel, Skyler Shaye', \"A group of smart-talking toddlers find themselves at the center of a media mogul's experiment to crack the code to baby talk. The toddlers must race against time for the sake of babies everywhere.\", 'English', 'Germany, UK, USA', '13 nominations.', 'https://images-na.ssl-images-amazon.com/images/M/MV5BNjY4NjM3MjQ2OF5BMl5BanBnXkFtZTcwOTc3NzYyMQ@@._V1_SX300.jpg', 'Internet Movie Database', '2.0/10', '9', '2.0', '26,376', 'tt0270846', 'movie', '04 Jan 2005', '$9,016,422', 'Sony', 'http://www.sonypictures.com/movies/superbabiesbabygeniuses2/index.html', 'True', 'http://www.rottentomatoes.com/m/super_babies_baby_geniuses_2/']\n",
            "value is movie\n",
            "headers is ['Title', 'Year', 'Rated', 'Released', 'Runtime', 'Genre', 'Director', 'Writer', 'Actors', 'Plot', 'Language', 'Country', 'Awards', 'Poster', 'Ratings.Source', 'Ratings.Value', 'Metascore', 'imdbRating', 'imdbVotes', 'imdbID', 'Type', 'DVD', 'BoxOffice', 'Production', 'Website', 'Response', 'tomatoURL']\n",
            "key is DVD\n",
            "moviedata is ['Superbabies: Baby Geniuses 2', '2004', 'PG', '27 Aug 2004', '88 min', 'Comedy, Family, Sci-Fi', 'Bob Clark', 'Steven Paul (story), Gregory Poppen (screenplay)', 'Jon Voight, Scott Baio, Vanessa Angel, Skyler Shaye', \"A group of smart-talking toddlers find themselves at the center of a media mogul's experiment to crack the code to baby talk. The toddlers must race against time for the sake of babies everywhere.\", 'English', 'Germany, UK, USA', '13 nominations.', 'https://images-na.ssl-images-amazon.com/images/M/MV5BNjY4NjM3MjQ2OF5BMl5BanBnXkFtZTcwOTc3NzYyMQ@@._V1_SX300.jpg', 'Internet Movie Database', '2.0/10', '9', '2.0', '26,376', 'tt0270846', 'movie', '04 Jan 2005', '$9,016,422', 'Sony', 'http://www.sonypictures.com/movies/superbabiesbabygeniuses2/index.html', 'True', 'http://www.rottentomatoes.com/m/super_babies_baby_geniuses_2/']\n",
            "value is 04 Jan 2005\n",
            "headers is ['Title', 'Year', 'Rated', 'Released', 'Runtime', 'Genre', 'Director', 'Writer', 'Actors', 'Plot', 'Language', 'Country', 'Awards', 'Poster', 'Ratings.Source', 'Ratings.Value', 'Metascore', 'imdbRating', 'imdbVotes', 'imdbID', 'Type', 'DVD', 'BoxOffice', 'Production', 'Website', 'Response', 'tomatoURL']\n",
            "key is BoxOffice\n",
            "moviedata is ['Superbabies: Baby Geniuses 2', '2004', 'PG', '27 Aug 2004', '88 min', 'Comedy, Family, Sci-Fi', 'Bob Clark', 'Steven Paul (story), Gregory Poppen (screenplay)', 'Jon Voight, Scott Baio, Vanessa Angel, Skyler Shaye', \"A group of smart-talking toddlers find themselves at the center of a media mogul's experiment to crack the code to baby talk. The toddlers must race against time for the sake of babies everywhere.\", 'English', 'Germany, UK, USA', '13 nominations.', 'https://images-na.ssl-images-amazon.com/images/M/MV5BNjY4NjM3MjQ2OF5BMl5BanBnXkFtZTcwOTc3NzYyMQ@@._V1_SX300.jpg', 'Internet Movie Database', '2.0/10', '9', '2.0', '26,376', 'tt0270846', 'movie', '04 Jan 2005', '$9,016,422', 'Sony', 'http://www.sonypictures.com/movies/superbabiesbabygeniuses2/index.html', 'True', 'http://www.rottentomatoes.com/m/super_babies_baby_geniuses_2/']\n",
            "value is $9,016,422\n",
            "headers is ['Title', 'Year', 'Rated', 'Released', 'Runtime', 'Genre', 'Director', 'Writer', 'Actors', 'Plot', 'Language', 'Country', 'Awards', 'Poster', 'Ratings.Source', 'Ratings.Value', 'Metascore', 'imdbRating', 'imdbVotes', 'imdbID', 'Type', 'DVD', 'BoxOffice', 'Production', 'Website', 'Response', 'tomatoURL']\n",
            "key is Production\n",
            "moviedata is ['Superbabies: Baby Geniuses 2', '2004', 'PG', '27 Aug 2004', '88 min', 'Comedy, Family, Sci-Fi', 'Bob Clark', 'Steven Paul (story), Gregory Poppen (screenplay)', 'Jon Voight, Scott Baio, Vanessa Angel, Skyler Shaye', \"A group of smart-talking toddlers find themselves at the center of a media mogul's experiment to crack the code to baby talk. The toddlers must race against time for the sake of babies everywhere.\", 'English', 'Germany, UK, USA', '13 nominations.', 'https://images-na.ssl-images-amazon.com/images/M/MV5BNjY4NjM3MjQ2OF5BMl5BanBnXkFtZTcwOTc3NzYyMQ@@._V1_SX300.jpg', 'Internet Movie Database', '2.0/10', '9', '2.0', '26,376', 'tt0270846', 'movie', '04 Jan 2005', '$9,016,422', 'Sony', 'http://www.sonypictures.com/movies/superbabiesbabygeniuses2/index.html', 'True', 'http://www.rottentomatoes.com/m/super_babies_baby_geniuses_2/']\n",
            "value is Sony\n",
            "headers is ['Title', 'Year', 'Rated', 'Released', 'Runtime', 'Genre', 'Director', 'Writer', 'Actors', 'Plot', 'Language', 'Country', 'Awards', 'Poster', 'Ratings.Source', 'Ratings.Value', 'Metascore', 'imdbRating', 'imdbVotes', 'imdbID', 'Type', 'DVD', 'BoxOffice', 'Production', 'Website', 'Response', 'tomatoURL']\n",
            "key is Website\n",
            "moviedata is ['Superbabies: Baby Geniuses 2', '2004', 'PG', '27 Aug 2004', '88 min', 'Comedy, Family, Sci-Fi', 'Bob Clark', 'Steven Paul (story), Gregory Poppen (screenplay)', 'Jon Voight, Scott Baio, Vanessa Angel, Skyler Shaye', \"A group of smart-talking toddlers find themselves at the center of a media mogul's experiment to crack the code to baby talk. The toddlers must race against time for the sake of babies everywhere.\", 'English', 'Germany, UK, USA', '13 nominations.', 'https://images-na.ssl-images-amazon.com/images/M/MV5BNjY4NjM3MjQ2OF5BMl5BanBnXkFtZTcwOTc3NzYyMQ@@._V1_SX300.jpg', 'Internet Movie Database', '2.0/10', '9', '2.0', '26,376', 'tt0270846', 'movie', '04 Jan 2005', '$9,016,422', 'Sony', 'http://www.sonypictures.com/movies/superbabiesbabygeniuses2/index.html', 'True', 'http://www.rottentomatoes.com/m/super_babies_baby_geniuses_2/']\n",
            "value is http://www.sonypictures.com/movies/superbabiesbabygeniuses2/index.html\n",
            "headers is ['Title', 'Year', 'Rated', 'Released', 'Runtime', 'Genre', 'Director', 'Writer', 'Actors', 'Plot', 'Language', 'Country', 'Awards', 'Poster', 'Ratings.Source', 'Ratings.Value', 'Metascore', 'imdbRating', 'imdbVotes', 'imdbID', 'Type', 'DVD', 'BoxOffice', 'Production', 'Website', 'Response', 'tomatoURL']\n",
            "key is Response\n",
            "moviedata is ['Superbabies: Baby Geniuses 2', '2004', 'PG', '27 Aug 2004', '88 min', 'Comedy, Family, Sci-Fi', 'Bob Clark', 'Steven Paul (story), Gregory Poppen (screenplay)', 'Jon Voight, Scott Baio, Vanessa Angel, Skyler Shaye', \"A group of smart-talking toddlers find themselves at the center of a media mogul's experiment to crack the code to baby talk. The toddlers must race against time for the sake of babies everywhere.\", 'English', 'Germany, UK, USA', '13 nominations.', 'https://images-na.ssl-images-amazon.com/images/M/MV5BNjY4NjM3MjQ2OF5BMl5BanBnXkFtZTcwOTc3NzYyMQ@@._V1_SX300.jpg', 'Internet Movie Database', '2.0/10', '9', '2.0', '26,376', 'tt0270846', 'movie', '04 Jan 2005', '$9,016,422', 'Sony', 'http://www.sonypictures.com/movies/superbabiesbabygeniuses2/index.html', 'True', 'http://www.rottentomatoes.com/m/super_babies_baby_geniuses_2/']\n",
            "value is True\n",
            "headers is ['Title', 'Year', 'Rated', 'Released', 'Runtime', 'Genre', 'Director', 'Writer', 'Actors', 'Plot', 'Language', 'Country', 'Awards', 'Poster', 'Ratings.Source', 'Ratings.Value', 'Metascore', 'imdbRating', 'imdbVotes', 'imdbID', 'Type', 'DVD', 'BoxOffice', 'Production', 'Website', 'Response', 'tomatoURL']\n",
            "key is tomatoURL\n",
            "moviedata is ['Superbabies: Baby Geniuses 2', '2004', 'PG', '27 Aug 2004', '88 min', 'Comedy, Family, Sci-Fi', 'Bob Clark', 'Steven Paul (story), Gregory Poppen (screenplay)', 'Jon Voight, Scott Baio, Vanessa Angel, Skyler Shaye', \"A group of smart-talking toddlers find themselves at the center of a media mogul's experiment to crack the code to baby talk. The toddlers must race against time for the sake of babies everywhere.\", 'English', 'Germany, UK, USA', '13 nominations.', 'https://images-na.ssl-images-amazon.com/images/M/MV5BNjY4NjM3MjQ2OF5BMl5BanBnXkFtZTcwOTc3NzYyMQ@@._V1_SX300.jpg', 'Internet Movie Database', '2.0/10', '9', '2.0', '26,376', 'tt0270846', 'movie', '04 Jan 2005', '$9,016,422', 'Sony', 'http://www.sonypictures.com/movies/superbabiesbabygeniuses2/index.html', 'True', 'http://www.rottentomatoes.com/m/super_babies_baby_geniuses_2/']\n",
            "value is http://www.rottentomatoes.com/m/super_babies_baby_geniuses_2/\n"
          ]
        }
      ],
      "source": [
        "import csv\n",
        "\n",
        "# Open the file\n",
        "with open('imdb.csv', 'r') as f:\n",
        "  # Use the csv library to read the data\n",
        "  data = list(csv.reader(f))\n",
        "\n",
        "# `data` is now a list of lists.  We can get a particular movie from it by selecting one of the elements, say list 3:\n",
        "#print(data[3])\n",
        "\n",
        "# Since data[0] contains the column headers, we can use those to create a dictionary for this one movie where the keys are the column headers, and the values are the corresponding entries for that movie:\n",
        "movie = {}\n",
        "for n in range(len(data[0])):\n",
        "#  movie[data[0][n]] = data[3][n]\n",
        "  #data[0] is the headers\n",
        "  header = data[0]\n",
        "  print(f\"headers is {header}\")\n",
        "  key = header[n]\n",
        "  print(f\"key is {key}\")\n",
        "  \n",
        "  #moviedata is date[3]\n",
        "  moviedata = data[3]\n",
        "  print(f\"moviedata is {moviedata}\")\n",
        "  value = moviedata[n]\n",
        "  print(f\"value is {value}\")\n",
        "  movie [key] = value\n",
        "  \n",
        "#print(movie)"
      ]
    },
    {
      "cell_type": "markdown",
      "metadata": {},
      "source": [
        "Actually, why don't we just do that for all the movies.  Make a list of dictionaries, where each dictionary represents a single movie."
      ]
    },
    {
      "cell_type": "code",
      "execution_count": 11,
      "metadata": {},
      "outputs": [
        {
          "name": "stdout",
          "output_type": "stream",
          "text": [
            "5273\n"
          ]
        }
      ],
      "source": [
        "movieDL = []\n",
        "\n",
        "for x in range(1, len(data)): \n",
        "  movie = {}\n",
        "  for n in range(len(data[0])):\n",
        "    movie[data[0][n]] = data[x][n]\n",
        "  movieDL.append(movie)\n",
        "\n",
        "print(movieDL[1])"
      ]
    },
    {
      "cell_type": "code",
      "execution_count": 13,
      "metadata": {},
      "outputs": [
        {
          "name": "stdout",
          "output_type": "stream",
          "text": [
            "5273\n",
            "The Hobbit: An Unexpected Journey\n"
          ]
        }
      ],
      "source": [
        "print(len(movieDL))\n",
        "print(movieDL[666]['Title'])"
      ]
    },
    {
      "cell_type": "markdown",
      "metadata": {},
      "source": [
        "### Exploring the data\n",
        "\n",
        "We now have a nice data object to work with.  What can we do with it?  Here are some ideas:\n",
        "\n",
        "1. Pick your favorite movie.  Is it in the list?  What was it rated?\n",
        "2. How many Comedy/Sci-Fi movies were released in 2013?\n",
        "3. How many movies feature Nic Cage?  \n",
        "4. What about Cage and Kevin Bacon?\n",
        "5. Are there any movies about computer science?\n",
        "\n",
        "Answer some of the questions below.\n"
      ]
    },
    {
      "cell_type": "code",
      "execution_count": 17,
      "metadata": {},
      "outputs": [
        {
          "name": "stdout",
          "output_type": "stream",
          "text": [
            "Harry Potter and the Deathly Hallows: Part 2 made $381,000,185\n",
            "Harry Potter and the Half-Blood Prince made $301,920,409\n",
            "Harry Potter and the Order of the Phoenix made $291,980,108\n",
            "Harry Potter and the Goblet of Fire made $289,994,397\n",
            "Harry Potter and the Prisoner of Azkaban made $249,358,727\n",
            "Harry Potter and the Deathly Hallows: Part II made N/A\n",
            "Harry Potter and the Sorcerer's Stone made $317,557,891\n",
            "Harry Potter and the Deathly Hallows: Part I made N/A\n",
            "Harry Potter and the Chamber of Secrets made $261,835,892\n"
          ]
        }
      ],
      "source": [
        "for movie in movieDL: \n",
        "    if \"Harry Potter\" in movie['Title']: \n",
        "        print(f\"{movie['Title']} made {movie['BoxOffice']}\")"
      ]
    },
    {
      "cell_type": "markdown",
      "metadata": {},
      "source": [
        "### Sorting\n",
        "Another question you might ask: which movie on the list made the most money? How could we find this?\n",
        "\n",
        "- We could go through each movie and find it's earnings, and keep track of the largest one we have seen.\n",
        "- We could use the max() function\n",
        "- We could sort the movies by earnings\n",
        "\n",
        "Try one or more of these."
      ]
    },
    {
      "cell_type": "code",
      "execution_count": null,
      "metadata": {},
      "outputs": [],
      "source": []
    },
    {
      "cell_type": "markdown",
      "metadata": {},
      "source": [
        "Earnings don't necessarily have ties, but if we sorted by rating say, then there will be more than one movie with a top rating.  How could we further sort the movies?\n",
        "\n",
        "## Sorting with tuples\n",
        "\n",
        "Tuple sorting is really nice! See what happens when you run the code below."
      ]
    },
    {
      "cell_type": "code",
      "execution_count": null,
      "metadata": {},
      "outputs": [],
      "source": [
        "tupleList = [('abc',3,'1'),('a',1,'10'),('a', 2,'9'),('a', 1,'9'),('abc',30,'0')]\n",
        "tupleList.sort()\n",
        "print(tupleList)"
      ]
    },
    {
      "cell_type": "markdown",
      "metadata": {},
      "source": [
        "Now let's use tuples to sort the list of movie dictionaries.  Let's create a function that takes in a movie (dictionary) and returns a sorting \"score\" in the form of a tuple.  Then sort the list of dictionaries using these tuples as the key."
      ]
    },
    {
      "cell_type": "code",
      "execution_count": null,
      "metadata": {},
      "outputs": [],
      "source": []
    }
  ],
  "metadata": {
    "colab": {
      "include_colab_link": true,
      "provenance": []
    },
    "kernelspec": {
      "display_name": "Python 3",
      "name": "python3"
    },
    "language_info": {
      "codemirror_mode": {
        "name": "ipython",
        "version": 3
      },
      "file_extension": ".py",
      "mimetype": "text/x-python",
      "name": "python",
      "nbconvert_exporter": "python",
      "pygments_lexer": "ipython3",
      "version": "3.10.8"
    }
  },
  "nbformat": 4,
  "nbformat_minor": 0
}
